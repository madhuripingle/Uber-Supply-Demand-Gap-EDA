{
 "cells": [
  {
   "cell_type": "markdown",
   "id": "2f02eb2c-e999-49bf-8134-574138d223f4",
   "metadata": {},
   "source": [
    "# **Project Name** - Uber Supply Demand Gap "
   ]
  },
  {
   "cell_type": "markdown",
   "id": "15895119-5265-44ff-adcd-56292d7ca82d",
   "metadata": {},
   "source": [
    "##### **Project Type** - EDA\n",
    "##### **Contribution** - Individual"
   ]
  },
  {
   "cell_type": "markdown",
   "id": "994716aa-433d-4c93-a1ee-0463633197cb",
   "metadata": {},
   "source": [
    "# **Project Summary -**"
   ]
  },
  {
   "cell_type": "markdown",
   "id": "852e6368-86de-46eb-b6a8-5bea134a54e7",
   "metadata": {},
   "source": [
    "Uber is an online car aggrigate service. Uber loses out on its revenue due to the supply and demand gap of the cars. This is mainly due to cancellation of requests by drivers and non-availability of cars.\n",
    "In this project, we will study, visualize and solve Uber's Supply Demand Gap Problem.  \n",
    "In Uber Dataset we have total 6745 record. All the trips are related to only Airport-City and City Airpots.\n",
    "Among that there are three types of Trips:\n",
    "    1.Trips completed\n",
    "    2.Cancelled\n",
    "    3.No cars available\n",
    "    \n",
    "The aim of analysis is to identify the root cause of Uber's problem (i.e.cancellation and non-availability of cars) and recommend ways to improve the situation.\n",
    "The approach for this project has been to divide the entire case study into various checkpoints to meet each of the sub-goals usind EDA and Visualization.\n",
    "\n",
    "For this project, we will follow the following strategy:\n",
    "\n",
    "1.Identify the problimatic trip status for trips originating from airport and city.\n",
    "2.Analyze if the day of week has any impact on the trips originating from airport and city for the problematic trip status.\n",
    "3.Determine the pressing problems by analyzing the request frequency of trips from airport and city for problematic trip statuses.\n",
    "4.Analyze the demand for cabs for each tieslot for trips from airport and city.\n",
    "5.Identify the timeslot that has the highest demand and supply gap, and find the request type (airport to city or city to airport) that is hugely effected.\n",
    "6.Identify the reasons for the gap.\n",
    "7.Recommend ways to resolve the gap.\n",
    "    "
   ]
  },
  {
   "cell_type": "markdown",
   "id": "f4cd20a6-ce81-486e-a24d-a4c807da5e86",
   "metadata": {},
   "source": [
    "# **GitHub Link -**"
   ]
  },
  {
   "cell_type": "markdown",
   "id": "76e7cf50-7722-4bfc-b37b-3e9a713c2fbd",
   "metadata": {},
   "source": [
    "https://github.com/madhuripingle"
   ]
  },
  {
   "cell_type": "markdown",
   "id": "8c505fdd-54ec-45f3-9907-bf2b066d9304",
   "metadata": {},
   "source": [
    "# **Problem Statement**"
   ]
  },
  {
   "cell_type": "code",
   "execution_count": null,
   "id": "ced8e6a5-67ee-49fd-ab24-9bf38162232c",
   "metadata": {},
   "outputs": [],
   "source": [
    "Find out the supply demand gap and suggest way to improve the situation.\n",
    " "
   ]
  },
  {
   "cell_type": "markdown",
   "id": "8489e2f9-f594-4e3f-b47f-5ff4966c3ac4",
   "metadata": {},
   "source": [
    "Based on the problem statement, we should focus on pickup point, status and driver id."
   ]
  },
  {
   "cell_type": "markdown",
   "id": "03f3dc05-a267-4b56-999a-88268b7eab56",
   "metadata": {},
   "source": [
    "#### **Business Objective**"
   ]
  },
  {
   "cell_type": "markdown",
   "id": "c3bf85c5-5b32-46f6-b9b4-9c7d70a8874c",
   "metadata": {},
   "source": [
    "1.   Identify patterns and trends in trip requests by time of day, day of the week, and pickup location.\n",
    "2.   Detect peak demand hours and areas where the supply of drivers consistently fails to meet user demand.\n",
    "3.   Analyze the reasons behind unfulfilled requests, such as high cancellation rates or no car availability.\n",
    "4.  Generate actionable insights that can help Uber optimize driver distribution and improve customer satisfaction.      "
   ]
  },
  {
   "cell_type": "markdown",
   "id": "0d411e55-ce7a-4ff0-b174-0dfc4abac65b",
   "metadata": {},
   "source": [
    "# ***Let's Begin !***"
   ]
  },
  {
   "cell_type": "markdown",
   "id": "353eb115-6a88-4a28-94e7-68571c5227e1",
   "metadata": {},
   "source": [
    "## ***1. Know yur Data***"
   ]
  },
  {
   "cell_type": "markdown",
   "id": "14631e26-7558-48a1-88fd-354a0549eadb",
   "metadata": {},
   "source": [
    "## Import Libraries"
   ]
  },
  {
   "cell_type": "code",
   "execution_count": 305,
   "id": "63f2fbad-89cc-489b-9188-b89a863e33cc",
   "metadata": {},
   "outputs": [],
   "source": [
    "import numpy as np\n",
    "import pandas as pd\n",
    "import datetime as dt\n",
    "import matplotlib.pyplot as plt\n",
    "import seaborn as sns\n",
    "#sns.set_style('whitegrid')\n",
    "sns.set_style(\"whitegrid\", {'axes.grid' : False})\n",
    "import warnings\n",
    "warnings.filterwarnings('ignore')"
   ]
  },
  {
   "cell_type": "markdown",
   "id": "72c0b2ca-0e38-4b4d-8f8b-cb0330245104",
   "metadata": {},
   "source": [
    "### Dataset Loading"
   ]
  },
  {
   "cell_type": "code",
   "execution_count": 167,
   "id": "f2d0a457-f983-4ba9-aaba-8a1d8d78df6e",
   "metadata": {},
   "outputs": [],
   "source": [
    "uber = pd.read_csv(\"Uber Request Data.csv\")"
   ]
  },
  {
   "cell_type": "markdown",
   "id": "43ad854a-c507-49cf-80ce-4c012e69b6b4",
   "metadata": {},
   "source": [
    "### Dataset First View"
   ]
  },
  {
   "cell_type": "code",
   "execution_count": 168,
   "id": "2310af15-459d-410d-a15f-7cfe34506e75",
   "metadata": {},
   "outputs": [
    {
     "data": {
      "text/html": [
       "<div>\n",
       "<style scoped>\n",
       "    .dataframe tbody tr th:only-of-type {\n",
       "        vertical-align: middle;\n",
       "    }\n",
       "\n",
       "    .dataframe tbody tr th {\n",
       "        vertical-align: top;\n",
       "    }\n",
       "\n",
       "    .dataframe thead th {\n",
       "        text-align: right;\n",
       "    }\n",
       "</style>\n",
       "<table border=\"1\" class=\"dataframe\">\n",
       "  <thead>\n",
       "    <tr style=\"text-align: right;\">\n",
       "      <th></th>\n",
       "      <th>Request id</th>\n",
       "      <th>Pickup point</th>\n",
       "      <th>Driver id</th>\n",
       "      <th>Status</th>\n",
       "      <th>Request timestamp</th>\n",
       "      <th>Drop timestamp</th>\n",
       "    </tr>\n",
       "  </thead>\n",
       "  <tbody>\n",
       "    <tr>\n",
       "      <th>0</th>\n",
       "      <td>619</td>\n",
       "      <td>Airport</td>\n",
       "      <td>1.0</td>\n",
       "      <td>Trip Completed</td>\n",
       "      <td>11/07/2016 11:51</td>\n",
       "      <td>11/07/2016 13:00</td>\n",
       "    </tr>\n",
       "    <tr>\n",
       "      <th>1</th>\n",
       "      <td>867</td>\n",
       "      <td>Airport</td>\n",
       "      <td>1.0</td>\n",
       "      <td>Trip Completed</td>\n",
       "      <td>11/07/2016 17:57</td>\n",
       "      <td>11/07/2016 18:47</td>\n",
       "    </tr>\n",
       "    <tr>\n",
       "      <th>2</th>\n",
       "      <td>1807</td>\n",
       "      <td>City</td>\n",
       "      <td>1.0</td>\n",
       "      <td>Trip Completed</td>\n",
       "      <td>12/07/2016 9:17</td>\n",
       "      <td>12/07/2016 9:58</td>\n",
       "    </tr>\n",
       "    <tr>\n",
       "      <th>3</th>\n",
       "      <td>2532</td>\n",
       "      <td>Airport</td>\n",
       "      <td>1.0</td>\n",
       "      <td>Trip Completed</td>\n",
       "      <td>12/07/2016 21:08</td>\n",
       "      <td>12/07/2016 22:03</td>\n",
       "    </tr>\n",
       "    <tr>\n",
       "      <th>4</th>\n",
       "      <td>3879</td>\n",
       "      <td>Airport</td>\n",
       "      <td>1.0</td>\n",
       "      <td>Trip Completed</td>\n",
       "      <td>13/07/2016 21:57</td>\n",
       "      <td>13/07/2016 22:28</td>\n",
       "    </tr>\n",
       "  </tbody>\n",
       "</table>\n",
       "</div>"
      ],
      "text/plain": [
       "   Request id Pickup point  Driver id          Status Request timestamp  \\\n",
       "0         619      Airport        1.0  Trip Completed  11/07/2016 11:51   \n",
       "1         867      Airport        1.0  Trip Completed  11/07/2016 17:57   \n",
       "2        1807         City        1.0  Trip Completed   12/07/2016 9:17   \n",
       "3        2532      Airport        1.0  Trip Completed  12/07/2016 21:08   \n",
       "4        3879      Airport        1.0  Trip Completed  13/07/2016 21:57   \n",
       "\n",
       "     Drop timestamp  \n",
       "0  11/07/2016 13:00  \n",
       "1  11/07/2016 18:47  \n",
       "2   12/07/2016 9:58  \n",
       "3  12/07/2016 22:03  \n",
       "4  13/07/2016 22:28  "
      ]
     },
     "execution_count": 168,
     "metadata": {},
     "output_type": "execute_result"
    }
   ],
   "source": [
    "uber.head()"
   ]
  },
  {
   "cell_type": "markdown",
   "id": "8eef99fa-570c-496e-87a6-be755643c4e0",
   "metadata": {},
   "source": [
    "### Dataset Rows & Columns count"
   ]
  },
  {
   "cell_type": "code",
   "execution_count": 169,
   "id": "af44d0d2-3c22-456c-87dc-7e092669fe7b",
   "metadata": {},
   "outputs": [
    {
     "name": "stdout",
     "output_type": "stream",
     "text": [
      "(6745, 6)\n"
     ]
    }
   ],
   "source": [
    " print(uber.shape)"
   ]
  },
  {
   "cell_type": "markdown",
   "id": "bff29fc0-e615-4651-bc52-ce87b03cdf20",
   "metadata": {},
   "source": [
    "There are 6745 rowas and 6 columns in Dataset."
   ]
  },
  {
   "cell_type": "markdown",
   "id": "b7db5944-eb54-498a-a1bf-a349ced3d32e",
   "metadata": {},
   "source": [
    "### Dataset Information"
   ]
  },
  {
   "cell_type": "code",
   "execution_count": 170,
   "id": "4ac0e79d-cc8e-4126-a61c-f0bacb0cb3f7",
   "metadata": {},
   "outputs": [
    {
     "name": "stdout",
     "output_type": "stream",
     "text": [
      "<class 'pandas.core.frame.DataFrame'>\n",
      "RangeIndex: 6745 entries, 0 to 6744\n",
      "Data columns (total 6 columns):\n",
      " #   Column             Non-Null Count  Dtype  \n",
      "---  ------             --------------  -----  \n",
      " 0   Request id         6745 non-null   int64  \n",
      " 1   Pickup point       6745 non-null   object \n",
      " 2   Driver id          4095 non-null   float64\n",
      " 3   Status             6745 non-null   object \n",
      " 4   Request timestamp  6745 non-null   object \n",
      " 5   Drop timestamp     2831 non-null   object \n",
      "dtypes: float64(1), int64(1), object(4)\n",
      "memory usage: 316.3+ KB\n",
      "None \n",
      "\n"
     ]
    }
   ],
   "source": [
    "print(uber.info(), \"\\n\")"
   ]
  },
  {
   "cell_type": "markdown",
   "id": "fb84e9f0-bb33-4f8a-bc5d-a953cb0e1532",
   "metadata": {},
   "source": [
    "#### Duplicate Values"
   ]
  },
  {
   "cell_type": "code",
   "execution_count": 171,
   "id": "76a3f66f-6fd1-4613-ab56-dace4de0b0c5",
   "metadata": {},
   "outputs": [
    {
     "name": "stdout",
     "output_type": "stream",
     "text": [
      "uber:  0\n"
     ]
    }
   ],
   "source": [
    "print(\"uber: \",uber.duplicated().sum())"
   ]
  },
  {
   "cell_type": "code",
   "execution_count": null,
   "id": "03739662-66f5-407f-807c-c545dd9bd319",
   "metadata": {},
   "outputs": [],
   "source": [
    "No duplicate value in uber dataset."
   ]
  },
  {
   "cell_type": "markdown",
   "id": "a4613739-2634-4bc6-80a9-76d26a1c5fcc",
   "metadata": {},
   "source": [
    "#### Missing Values/Null Values"
   ]
  },
  {
   "cell_type": "code",
   "execution_count": 135,
   "id": "c1632b9f-b2b0-4789-a56f-1bc494ee67f0",
   "metadata": {},
   "outputs": [
    {
     "name": "stdout",
     "output_type": "stream",
     "text": [
      "uber:  Request id              0\n",
      "Pickup point            0\n",
      "Driver id            2650\n",
      "Status                  0\n",
      "Request timestamp       0\n",
      "Drop timestamp       3914\n",
      "dtype: int64\n"
     ]
    }
   ],
   "source": [
    "print(\"uber: \", uber.isnull().sum())"
   ]
  },
  {
   "cell_type": "markdown",
   "id": "f0bb1057-03d5-45f3-b0f2-2aa1f4c1b781",
   "metadata": {},
   "source": [
    "Null valued are present in Driver id and Drop timestamp"
   ]
  },
  {
   "cell_type": "markdown",
   "id": "fad2e6b5-eecd-46ca-8630-dcb4cbf5c42e",
   "metadata": {},
   "source": [
    "### What did you know about your dataset?"
   ]
  },
  {
   "cell_type": "markdown",
   "id": "428c8d27-b4a5-4925-985d-777fb0286bc3",
   "metadata": {},
   "source": [
    " ---\n",
    "\n",
    " ## **Dataset Summary: Uber Request Data**\n",
    "\n",
    "This dataset captures **ride request information** from **Uber** in **Bangalore** over a period of **several days in July 2016**. It is intended for analyzing operational challenges and service performance, particularly at two major locations: **Airport** and **City**.\n",
    "\n",
    "---\n",
    "\n",
    "### **File Name:**\n",
    "\n",
    "`Uber Request Data.csv`\n",
    "\n",
    "### **Rows (Records):**\n",
    "\n",
    "6745\n",
    "\n",
    "###  **Columns and Description:**\n",
    " 1.  **Request ID**: Unique identifier for each ride request\n",
    " 2.  **Pickup point**: Location from where the ride was requested – either **City** or **Airport**\n",
    " 3.  **Driver ID**: Unique identifier for the driver (may be blank if no driver was assigned)\n",
    " 4.  **Status**: Final status of the ride – **Trip Completed**, **Cancelled**, or **No Cars Available**\n",
    " 5.  **Request Timestamp**: Time when the ride was requested  \n",
    " 6.  **Drop Timestamp**: Time when the trip ended (only present if the trip was completed)\n",
    "\n",
    "##  **What We Can Understand from the Dataset**\n",
    "\n",
    "###  **Primary Objectives & Analysis Goals:**\n",
    "\n",
    "* Identify **supply-demand gaps**.\n",
    "* Analyze **driver availability patterns**.\n",
    "* Understand **ride request behavior** at different times of the day.\n",
    "* Study cancellation trends and “No cars available” scenarios.\n",
    "* Derive **actionable insights** for operations improvement.\n",
    "* "
   ]
  },
  {
   "cell_type": "markdown",
   "id": "07b5efe3-dbe9-4198-8d0a-e5288d9f2052",
   "metadata": {},
   "source": [
    "## ***2. Understanding Your Variables***"
   ]
  },
  {
   "cell_type": "markdown",
   "id": "ebcdaf6e-8283-4979-bf61-8877a5cc2a4f",
   "metadata": {},
   "source": [
    "### Variables Description"
   ]
  },
  {
   "cell_type": "markdown",
   "id": "c347123d-b39f-4e18-8292-e87b265a9d5b",
   "metadata": {},
   "source": [
    "---\n",
    "\n",
    "###  **Uber Request Data - Variable Description**\n",
    "\n",
    "| **Variable**        | **Description**                                                                                       |\n",
    "| ------------------- | ----------------------------------------------------------------------------------------------------- |\n",
    "| `Request id`        | A unique identifier assigned to each ride request.                                                    |\n",
    "| `Pickup point`      | The pickup location category for the request: either `City` or `Airport`.                             |\n",
    "| `Driver id`         | The unique ID of the driver who accepted the request (blank if not assigned).                         |\n",
    "| `Status`            | The current status of the request:<br> - `Trip Completed`<br> - `Cancelled`<br> - `No Cars Available` |\n",
    "| `Request timestamp` | The date and time when the ride was requested by the customer.                                        |\n",
    "| `Drop timestamp`    | The date and time when the trip was completed (or ended).                                             |\n",
    "\n",
    "---\n"
   ]
  },
  {
   "cell_type": "markdown",
   "id": "2718a1d8-1419-43ef-a655-0ef805357775",
   "metadata": {},
   "source": [
    "## 3. ***Data Wrangling***"
   ]
  },
  {
   "cell_type": "markdown",
   "id": "6b099b53-f3fd-40c7-99b8-642236715610",
   "metadata": {},
   "source": [
    "#### Rename columns and remove space or special characters so that we can query easily for our analysis"
   ]
  },
  {
   "cell_type": "code",
   "execution_count": 173,
   "id": "4984f49e-6451-413e-8d91-d3aef9f0c5b8",
   "metadata": {},
   "outputs": [],
   "source": [
    "uber.rename(columns = {'Drop timestamp':'Drop_timestamp','Driver id':'Driver_id','Request id':'Request_id','Pickup point':'Pickup_point','Request timestamp':'Request_timestamp'}, inplace = True)"
   ]
  },
  {
   "cell_type": "markdown",
   "id": "4f140164-939a-4e04-82a9-ac940c9fe041",
   "metadata": {},
   "source": [
    "#### Data set with column names after removing space or special characters"
   ]
  },
  {
   "cell_type": "code",
   "execution_count": 174,
   "id": "43f6cc59-c08d-4ed2-8004-7499555b2f38",
   "metadata": {},
   "outputs": [
    {
     "data": {
      "text/html": [
       "<div>\n",
       "<style scoped>\n",
       "    .dataframe tbody tr th:only-of-type {\n",
       "        vertical-align: middle;\n",
       "    }\n",
       "\n",
       "    .dataframe tbody tr th {\n",
       "        vertical-align: top;\n",
       "    }\n",
       "\n",
       "    .dataframe thead th {\n",
       "        text-align: right;\n",
       "    }\n",
       "</style>\n",
       "<table border=\"1\" class=\"dataframe\">\n",
       "  <thead>\n",
       "    <tr style=\"text-align: right;\">\n",
       "      <th></th>\n",
       "      <th>Request_id</th>\n",
       "      <th>Pickup_point</th>\n",
       "      <th>Driver_id</th>\n",
       "      <th>Status</th>\n",
       "      <th>Request_timestamp</th>\n",
       "      <th>Drop_timestamp</th>\n",
       "    </tr>\n",
       "  </thead>\n",
       "  <tbody>\n",
       "    <tr>\n",
       "      <th>0</th>\n",
       "      <td>619</td>\n",
       "      <td>Airport</td>\n",
       "      <td>1.0</td>\n",
       "      <td>Trip Completed</td>\n",
       "      <td>11/07/2016 11:51</td>\n",
       "      <td>11/07/2016 13:00</td>\n",
       "    </tr>\n",
       "    <tr>\n",
       "      <th>1</th>\n",
       "      <td>867</td>\n",
       "      <td>Airport</td>\n",
       "      <td>1.0</td>\n",
       "      <td>Trip Completed</td>\n",
       "      <td>11/07/2016 17:57</td>\n",
       "      <td>11/07/2016 18:47</td>\n",
       "    </tr>\n",
       "    <tr>\n",
       "      <th>2</th>\n",
       "      <td>1807</td>\n",
       "      <td>City</td>\n",
       "      <td>1.0</td>\n",
       "      <td>Trip Completed</td>\n",
       "      <td>12/07/2016 9:17</td>\n",
       "      <td>12/07/2016 9:58</td>\n",
       "    </tr>\n",
       "    <tr>\n",
       "      <th>3</th>\n",
       "      <td>2532</td>\n",
       "      <td>Airport</td>\n",
       "      <td>1.0</td>\n",
       "      <td>Trip Completed</td>\n",
       "      <td>12/07/2016 21:08</td>\n",
       "      <td>12/07/2016 22:03</td>\n",
       "    </tr>\n",
       "    <tr>\n",
       "      <th>4</th>\n",
       "      <td>3879</td>\n",
       "      <td>Airport</td>\n",
       "      <td>1.0</td>\n",
       "      <td>Trip Completed</td>\n",
       "      <td>13/07/2016 21:57</td>\n",
       "      <td>13/07/2016 22:28</td>\n",
       "    </tr>\n",
       "  </tbody>\n",
       "</table>\n",
       "</div>"
      ],
      "text/plain": [
       "   Request_id Pickup_point  Driver_id          Status Request_timestamp  \\\n",
       "0         619      Airport        1.0  Trip Completed  11/07/2016 11:51   \n",
       "1         867      Airport        1.0  Trip Completed  11/07/2016 17:57   \n",
       "2        1807         City        1.0  Trip Completed   12/07/2016 9:17   \n",
       "3        2532      Airport        1.0  Trip Completed  12/07/2016 21:08   \n",
       "4        3879      Airport        1.0  Trip Completed  13/07/2016 21:57   \n",
       "\n",
       "     Drop_timestamp  \n",
       "0  11/07/2016 13:00  \n",
       "1  11/07/2016 18:47  \n",
       "2   12/07/2016 9:58  \n",
       "3  12/07/2016 22:03  \n",
       "4  13/07/2016 22:28  "
      ]
     },
     "execution_count": 174,
     "metadata": {},
     "output_type": "execute_result"
    }
   ],
   "source": [
    "uber.head()"
   ]
  },
  {
   "cell_type": "code",
   "execution_count": 176,
   "id": "ce3cc5dd-67b1-4381-9cd9-0c0d8be72c29",
   "metadata": {},
   "outputs": [
    {
     "name": "stdout",
     "output_type": "stream",
     "text": [
      "Pickup_point\n",
      "City       3507\n",
      "Airport    3238\n",
      "Name: count, dtype: int64\n"
     ]
    }
   ],
   "source": [
    "# unique values in dataframe for each column\n",
    "\n",
    "print(uber['Pickup_point'].value_counts())"
   ]
  },
  {
   "cell_type": "code",
   "execution_count": 177,
   "id": "4274eaa5-8757-4b9a-bec5-8b4d0cacbd46",
   "metadata": {},
   "outputs": [
    {
     "name": "stdout",
     "output_type": "stream",
     "text": [
      "Request_id\n",
      "619     1\n",
      "1132    1\n",
      "1161    1\n",
      "1157    1\n",
      "1160    1\n",
      "Name: count, dtype: int64\n"
     ]
    }
   ],
   "source": [
    "print(uber['Request_id'].value_counts().head())"
   ]
  },
  {
   "cell_type": "code",
   "execution_count": 178,
   "id": "6399f94b-9e48-42de-8eb9-fe10787ed09d",
   "metadata": {},
   "outputs": [
    {
     "name": "stdout",
     "output_type": "stream",
     "text": [
      "Driver_id\n",
      "27.0     22\n",
      "176.0    21\n",
      "177.0    21\n",
      "84.0     21\n",
      "22.0     21\n",
      "         ..\n",
      "208.0     8\n",
      "123.0     7\n",
      "42.0      7\n",
      "265.0     6\n",
      "300.0     6\n",
      "Name: count, Length: 300, dtype: int64\n"
     ]
    }
   ],
   "source": [
    "print(uber['Driver_id'].value_counts())"
   ]
  },
  {
   "cell_type": "code",
   "execution_count": 179,
   "id": "0c8c4a5d-a687-42d3-a62b-2880349960b6",
   "metadata": {},
   "outputs": [
    {
     "name": "stdout",
     "output_type": "stream",
     "text": [
      "Status\n",
      "Trip Completed       2831\n",
      "No Cars Available    2650\n",
      "Cancelled            1264\n",
      "Name: count, dtype: int64\n"
     ]
    }
   ],
   "source": [
    "print(uber['Status'].value_counts())"
   ]
  },
  {
   "cell_type": "code",
   "execution_count": 180,
   "id": "0c75bdbe-75e3-4518-9caa-1af540ef80ed",
   "metadata": {},
   "outputs": [
    {
     "name": "stdout",
     "output_type": "stream",
     "text": [
      "Request_timestamp\n",
      "15/07/2016 19:19    8\n",
      "14/07/2016 17:34    7\n",
      "15/07/2016 20:06    7\n",
      "15/07/2016 20:54    7\n",
      "15/07/2016 10:00    6\n",
      "Name: count, dtype: int64\n"
     ]
    }
   ],
   "source": [
    "print(uber['Request_timestamp'].value_counts().head())"
   ]
  },
  {
   "cell_type": "code",
   "execution_count": 140,
   "id": "5e92af82-2122-45ff-82c0-0f6fe8f2fd47",
   "metadata": {},
   "outputs": [
    {
     "name": "stdout",
     "output_type": "stream",
     "text": [
      "Drop timestamp\n",
      "0                  3914\n",
      "12/7/2016 21:53       4\n",
      "12/7/2016 6:22        4\n",
      "12/7/2016 21:04       4\n",
      "11/7/2016 13:00       4\n",
      "Name: count, dtype: int64\n"
     ]
    }
   ],
   "source": [
    "print(uber['Drop timestamp'].value_counts().head())"
   ]
  },
  {
   "cell_type": "code",
   "execution_count": 181,
   "id": "534b1c54-147c-4653-9f81-8f672a1a9375",
   "metadata": {},
   "outputs": [],
   "source": [
    "#Converting \"Request_timestamp\" & \"Drop_timestamp\" columns dtypes to datetime\n",
    "uber['Request_timestamp'] = pd.to_datetime(uber['Request_timestamp'], dayfirst=True)\n",
    "uber['Drop_timestamp'] = pd.to_datetime(uber['Drop_timestamp'], dayfirst=True)"
   ]
  },
  {
   "cell_type": "code",
   "execution_count": 182,
   "id": "bbd78293-0c7d-4e60-a8a7-07b8f56d7b29",
   "metadata": {},
   "outputs": [
    {
     "name": "stdout",
     "output_type": "stream",
     "text": [
      "<class 'pandas.core.frame.DataFrame'>\n",
      "RangeIndex: 6745 entries, 0 to 6744\n",
      "Data columns (total 6 columns):\n",
      " #   Column             Non-Null Count  Dtype         \n",
      "---  ------             --------------  -----         \n",
      " 0   Request_id         6745 non-null   int64         \n",
      " 1   Pickup_point       6745 non-null   object        \n",
      " 2   Driver_id          4095 non-null   float64       \n",
      " 3   Status             6745 non-null   object        \n",
      " 4   Request_timestamp  6745 non-null   datetime64[ns]\n",
      " 5   Drop_timestamp     2831 non-null   datetime64[ns]\n",
      "dtypes: datetime64[ns](2), float64(1), int64(1), object(2)\n",
      "memory usage: 316.3+ KB\n"
     ]
    }
   ],
   "source": [
    "uber.info()"
   ]
  },
  {
   "cell_type": "code",
   "execution_count": 183,
   "id": "5338ee9b-5eef-4aff-b566-5f291646bd2d",
   "metadata": {},
   "outputs": [
    {
     "data": {
      "text/plain": [
       "Status\n",
       "Cancelled            1264\n",
       "No Cars Available    2650\n",
       "dtype: int64"
      ]
     },
     "execution_count": 183,
     "metadata": {},
     "output_type": "execute_result"
    }
   ],
   "source": [
    "# Lets investigate further and see \"Drop_timestamp\" null values based on categorical value column \"Status\"\n",
    "\n",
    "uber[(uber['Drop_timestamp'].isna())].groupby('Status').size()"
   ]
  },
  {
   "cell_type": "markdown",
   "id": "f5fa6ff3-81ae-4c30-8cb6-9821b4c07331",
   "metadata": {},
   "source": [
    "### Check Unique Values for each variable."
   ]
  },
  {
   "cell_type": "code",
   "execution_count": 184,
   "id": "c86eb54b-7fe3-429b-91f7-cd1a5d9f0456",
   "metadata": {},
   "outputs": [
    {
     "name": "stdout",
     "output_type": "stream",
     "text": [
      "uber:  6745\n"
     ]
    }
   ],
   "source": [
    "print(\"uber: \", uber[\"Request_id\"].nunique())"
   ]
  },
  {
   "cell_type": "code",
   "execution_count": 185,
   "id": "135eabab-5f60-4047-9da7-4c26b077c08c",
   "metadata": {},
   "outputs": [
    {
     "name": "stdout",
     "output_type": "stream",
     "text": [
      "uber:  2\n"
     ]
    }
   ],
   "source": [
    "print(\"uber: \", uber[\"Pickup_point\"].nunique())"
   ]
  },
  {
   "cell_type": "code",
   "execution_count": 186,
   "id": "f953d87b-9422-4923-bbc0-ef97de0e8f96",
   "metadata": {},
   "outputs": [
    {
     "name": "stdout",
     "output_type": "stream",
     "text": [
      "['Airport' 'City']\n"
     ]
    }
   ],
   "source": [
    "# names of unique pickup points\n",
    "print(uber[\"Pickup_point\"].unique())"
   ]
  },
  {
   "cell_type": "code",
   "execution_count": 187,
   "id": "6d178e76-c772-4240-9a96-c0d7d87c9b8c",
   "metadata": {},
   "outputs": [
    {
     "name": "stdout",
     "output_type": "stream",
     "text": [
      "uber:  3\n"
     ]
    }
   ],
   "source": [
    "print(\"uber: \", uber[\"Status\"].nunique())"
   ]
  },
  {
   "cell_type": "code",
   "execution_count": 189,
   "id": "660f82d3-cf78-40e7-9b3f-e5dd91b4d0a5",
   "metadata": {},
   "outputs": [
    {
     "name": "stdout",
     "output_type": "stream",
     "text": [
      "uber:  4016\n"
     ]
    }
   ],
   "source": [
    "print(\"uber: \", uber[\"Request_timestamp\"].nunique())"
   ]
  },
  {
   "cell_type": "code",
   "execution_count": 190,
   "id": "6a461ef1-60db-43e2-9179-6d42c22ffac7",
   "metadata": {},
   "outputs": [
    {
     "name": "stdout",
     "output_type": "stream",
     "text": [
      "uber:  2282\n"
     ]
    }
   ],
   "source": [
    "print(\"uber: \", uber[\"Drop_timestamp\"].nunique())"
   ]
  },
  {
   "cell_type": "code",
   "execution_count": null,
   "id": "e4b93675-b9d8-4666-b47c-a689f801b457",
   "metadata": {},
   "outputs": [],
   "source": [
    "## Checking for data quality issues and cleaning"
   ]
  },
  {
   "cell_type": "code",
   "execution_count": 191,
   "id": "e2db74a4-be2c-4286-b409-d3d6967a299a",
   "metadata": {},
   "outputs": [
    {
     "data": {
      "text/html": [
       "<div>\n",
       "<style scoped>\n",
       "    .dataframe tbody tr th:only-of-type {\n",
       "        vertical-align: middle;\n",
       "    }\n",
       "\n",
       "    .dataframe tbody tr th {\n",
       "        vertical-align: top;\n",
       "    }\n",
       "\n",
       "    .dataframe thead th {\n",
       "        text-align: right;\n",
       "    }\n",
       "</style>\n",
       "<table border=\"1\" class=\"dataframe\">\n",
       "  <thead>\n",
       "    <tr style=\"text-align: right;\">\n",
       "      <th></th>\n",
       "      <th>Request_id</th>\n",
       "      <th>Pickup_point</th>\n",
       "      <th>Driver_id</th>\n",
       "      <th>Status</th>\n",
       "      <th>Request_timestamp</th>\n",
       "      <th>Drop_timestamp</th>\n",
       "    </tr>\n",
       "  </thead>\n",
       "  <tbody>\n",
       "    <tr>\n",
       "      <th>0</th>\n",
       "      <td>619</td>\n",
       "      <td>Airport</td>\n",
       "      <td>1.0</td>\n",
       "      <td>Trip Completed</td>\n",
       "      <td>2016-07-11 11:51:00</td>\n",
       "      <td>2016-07-11 13:00:00</td>\n",
       "    </tr>\n",
       "    <tr>\n",
       "      <th>1</th>\n",
       "      <td>867</td>\n",
       "      <td>Airport</td>\n",
       "      <td>1.0</td>\n",
       "      <td>Trip Completed</td>\n",
       "      <td>2016-07-11 17:57:00</td>\n",
       "      <td>2016-07-11 18:47:00</td>\n",
       "    </tr>\n",
       "    <tr>\n",
       "      <th>2</th>\n",
       "      <td>1807</td>\n",
       "      <td>City</td>\n",
       "      <td>1.0</td>\n",
       "      <td>Trip Completed</td>\n",
       "      <td>2016-07-12 09:17:00</td>\n",
       "      <td>2016-07-12 09:58:00</td>\n",
       "    </tr>\n",
       "    <tr>\n",
       "      <th>3</th>\n",
       "      <td>2532</td>\n",
       "      <td>Airport</td>\n",
       "      <td>1.0</td>\n",
       "      <td>Trip Completed</td>\n",
       "      <td>2016-07-12 21:08:00</td>\n",
       "      <td>2016-07-12 22:03:00</td>\n",
       "    </tr>\n",
       "    <tr>\n",
       "      <th>4</th>\n",
       "      <td>3879</td>\n",
       "      <td>Airport</td>\n",
       "      <td>1.0</td>\n",
       "      <td>Trip Completed</td>\n",
       "      <td>2016-07-13 21:57:00</td>\n",
       "      <td>2016-07-13 22:28:00</td>\n",
       "    </tr>\n",
       "  </tbody>\n",
       "</table>\n",
       "</div>"
      ],
      "text/plain": [
       "   Request_id Pickup_point  Driver_id          Status   Request_timestamp  \\\n",
       "0         619      Airport        1.0  Trip Completed 2016-07-11 11:51:00   \n",
       "1         867      Airport        1.0  Trip Completed 2016-07-11 17:57:00   \n",
       "2        1807         City        1.0  Trip Completed 2016-07-12 09:17:00   \n",
       "3        2532      Airport        1.0  Trip Completed 2016-07-12 21:08:00   \n",
       "4        3879      Airport        1.0  Trip Completed 2016-07-13 21:57:00   \n",
       "\n",
       "       Drop_timestamp  \n",
       "0 2016-07-11 13:00:00  \n",
       "1 2016-07-11 18:47:00  \n",
       "2 2016-07-12 09:58:00  \n",
       "3 2016-07-12 22:03:00  \n",
       "4 2016-07-13 22:28:00  "
      ]
     },
     "execution_count": 191,
     "metadata": {},
     "output_type": "execute_result"
    }
   ],
   "source": [
    "#replacing space in column with '_'\n",
    "uber.columns = uber.columns.str.replace(' ', '_')\n",
    "uber.head()"
   ]
  },
  {
   "cell_type": "code",
   "execution_count": 192,
   "id": "b53a27b2-5d97-4798-bc6e-007e859abe5b",
   "metadata": {},
   "outputs": [
    {
     "data": {
      "text/plain": [
       "3914"
      ]
     },
     "execution_count": 192,
     "metadata": {},
     "output_type": "execute_result"
    }
   ],
   "source": [
    "#records without Trip completed\n",
    "uber[uber.Status != \"Trip Completed\"].Status.count()"
   ]
  },
  {
   "cell_type": "markdown",
   "id": "a1619446-fc45-447f-8f93-44147df41a2a",
   "metadata": {},
   "source": [
    "Its exactly 3914, which is equal to nulls in Drop timestamp 3914. So, need not to bother as it is doesn't have any droptime and can replace them with 0's And driver id is not important we can just drop the column"
   ]
  },
  {
   "cell_type": "code",
   "execution_count": 193,
   "id": "7cc7006e-d329-43d3-a2d2-3ceba6ac04ec",
   "metadata": {},
   "outputs": [],
   "source": [
    "#filling na's with 0\n",
    "\n",
    "uber[\"Drop_timestamp\"] = uber[\"Drop_timestamp\"].fillna(0)\n",
    "\n",
    "uber  = uber.drop(['Driver_id'],axis = 1)"
   ]
  },
  {
   "cell_type": "code",
   "execution_count": 194,
   "id": "ecb7a1b3-1574-4fdb-8419-9f993ce68621",
   "metadata": {},
   "outputs": [
    {
     "data": {
      "text/plain": [
       "Request_id           0\n",
       "Pickup_point         0\n",
       "Status               0\n",
       "Request_timestamp    0\n",
       "Drop_timestamp       0\n",
       "dtype: int64"
      ]
     },
     "execution_count": 194,
     "metadata": {},
     "output_type": "execute_result"
    }
   ],
   "source": [
    "#checking NA's\n",
    "uber.isnull().sum()"
   ]
  },
  {
   "cell_type": "code",
   "execution_count": 195,
   "id": "24056223-a730-42e9-9083-b751c461f459",
   "metadata": {},
   "outputs": [
    {
     "data": {
      "text/plain": [
       "(6745, 5)"
      ]
     },
     "execution_count": 195,
     "metadata": {},
     "output_type": "execute_result"
    }
   ],
   "source": [
    "# shape after removing Driver id column\n",
    "\n",
    "uber.shape"
   ]
  },
  {
   "cell_type": "code",
   "execution_count": 200,
   "id": "ebab8a41-c3d3-40f8-b3d8-d19e546b63b0",
   "metadata": {},
   "outputs": [],
   "source": [
    "# extract the hour and day from the request time\n",
    "\n",
    "Request_hour = uber[\"Request_timestamp\"].dt.hour\n",
    "Request_hour.head()\n",
    "Request_hour.value_counts()\n",
    "uber[\"Request_hour\"] = Request_hour\n",
    "\n",
    "Request_day = uber[\"Request_timestamp\"].dt.day\n",
    "Request_day.head()\n",
    "Request_day.value_counts()\n",
    "uber[\"Request_day\"] = Request_day"
   ]
  },
  {
   "cell_type": "code",
   "execution_count": 202,
   "id": "8f1db772-f35d-4d25-850d-700457906749",
   "metadata": {},
   "outputs": [],
   "source": [
    "uber['Time_slot'] = pd.cut(uber['Request_hour'],\n",
    "                         bins=[0, 4, 8, 12, 16, 20, 24],\n",
    "                         labels=['Late Night', 'Early Morning', 'Morning', 'Afternoon', 'Evening', 'Night'],\n",
    "                         right=False)"
   ]
  },
  {
   "cell_type": "code",
   "execution_count": 203,
   "id": "7d405924-35ea-4853-b171-499d70fa5f58",
   "metadata": {},
   "outputs": [
    {
     "data": {
      "text/html": [
       "<div>\n",
       "<style scoped>\n",
       "    .dataframe tbody tr th:only-of-type {\n",
       "        vertical-align: middle;\n",
       "    }\n",
       "\n",
       "    .dataframe tbody tr th {\n",
       "        vertical-align: top;\n",
       "    }\n",
       "\n",
       "    .dataframe thead th {\n",
       "        text-align: right;\n",
       "    }\n",
       "</style>\n",
       "<table border=\"1\" class=\"dataframe\">\n",
       "  <thead>\n",
       "    <tr style=\"text-align: right;\">\n",
       "      <th></th>\n",
       "      <th>Request_id</th>\n",
       "      <th>Pickup_point</th>\n",
       "      <th>Status</th>\n",
       "      <th>Request_timestamp</th>\n",
       "      <th>Drop_timestamp</th>\n",
       "      <th>Request_hour</th>\n",
       "      <th>Request_day</th>\n",
       "      <th>Time_slot</th>\n",
       "    </tr>\n",
       "  </thead>\n",
       "  <tbody>\n",
       "    <tr>\n",
       "      <th>0</th>\n",
       "      <td>619</td>\n",
       "      <td>Airport</td>\n",
       "      <td>Trip Completed</td>\n",
       "      <td>2016-07-11 11:51:00</td>\n",
       "      <td>2016-07-11 13:00:00</td>\n",
       "      <td>11</td>\n",
       "      <td>11</td>\n",
       "      <td>Morning</td>\n",
       "    </tr>\n",
       "    <tr>\n",
       "      <th>1</th>\n",
       "      <td>867</td>\n",
       "      <td>Airport</td>\n",
       "      <td>Trip Completed</td>\n",
       "      <td>2016-07-11 17:57:00</td>\n",
       "      <td>2016-07-11 18:47:00</td>\n",
       "      <td>17</td>\n",
       "      <td>11</td>\n",
       "      <td>Evening</td>\n",
       "    </tr>\n",
       "    <tr>\n",
       "      <th>2</th>\n",
       "      <td>1807</td>\n",
       "      <td>City</td>\n",
       "      <td>Trip Completed</td>\n",
       "      <td>2016-07-12 09:17:00</td>\n",
       "      <td>2016-07-12 09:58:00</td>\n",
       "      <td>9</td>\n",
       "      <td>12</td>\n",
       "      <td>Morning</td>\n",
       "    </tr>\n",
       "    <tr>\n",
       "      <th>3</th>\n",
       "      <td>2532</td>\n",
       "      <td>Airport</td>\n",
       "      <td>Trip Completed</td>\n",
       "      <td>2016-07-12 21:08:00</td>\n",
       "      <td>2016-07-12 22:03:00</td>\n",
       "      <td>21</td>\n",
       "      <td>12</td>\n",
       "      <td>Night</td>\n",
       "    </tr>\n",
       "    <tr>\n",
       "      <th>4</th>\n",
       "      <td>3879</td>\n",
       "      <td>Airport</td>\n",
       "      <td>Trip Completed</td>\n",
       "      <td>2016-07-13 21:57:00</td>\n",
       "      <td>2016-07-13 22:28:00</td>\n",
       "      <td>21</td>\n",
       "      <td>13</td>\n",
       "      <td>Night</td>\n",
       "    </tr>\n",
       "  </tbody>\n",
       "</table>\n",
       "</div>"
      ],
      "text/plain": [
       "   Request_id Pickup_point          Status   Request_timestamp  \\\n",
       "0         619      Airport  Trip Completed 2016-07-11 11:51:00   \n",
       "1         867      Airport  Trip Completed 2016-07-11 17:57:00   \n",
       "2        1807         City  Trip Completed 2016-07-12 09:17:00   \n",
       "3        2532      Airport  Trip Completed 2016-07-12 21:08:00   \n",
       "4        3879      Airport  Trip Completed 2016-07-13 21:57:00   \n",
       "\n",
       "        Drop_timestamp  Request_hour  Request_day Time_slot  \n",
       "0  2016-07-11 13:00:00            11           11   Morning  \n",
       "1  2016-07-11 18:47:00            17           11   Evening  \n",
       "2  2016-07-12 09:58:00             9           12   Morning  \n",
       "3  2016-07-12 22:03:00            21           12     Night  \n",
       "4  2016-07-13 22:28:00            21           13     Night  "
      ]
     },
     "execution_count": 203,
     "metadata": {},
     "output_type": "execute_result"
    }
   ],
   "source": [
    "# after adding day, hour and time slot column, check the dataset\n",
    "\n",
    "uber.head()"
   ]
  },
  {
   "cell_type": "markdown",
   "id": "4f0cb801-fdfb-4549-914f-ff10d50abe5d",
   "metadata": {},
   "source": [
    " ### Data manipulations performed---"
   ]
  },
  {
   "cell_type": "code",
   "execution_count": null,
   "id": "29136080-93ca-4b71-ad9d-7c49a26bc424",
   "metadata": {},
   "outputs": [],
   "source": [
    "1.Null values are presented in Driver id and Drop timestamp. Filled NA with 0 in Drop timestamp column and Drop Driver id column.\n",
    "2.Request timestamp and drop timestamp was object here.Converted it to date time format.\n",
    "3.Rename columns for easy analyzing.\n",
    "4.Remove space or special character.\n",
    "5.Add columns Request_hour, Request_day and Time_slot."
   ]
  },
  {
   "cell_type": "markdown",
   "id": "a03136ea-442c-465e-bbbd-610f3e06cd91",
   "metadata": {},
   "source": [
    "### Insights from Exploratory Data Analysis (EDA)\n",
    "\n",
    "### 1. **Request Patterns**\n",
    "\n",
    "* **Most ride requests** were made during **morning (5–10 AM)** and **evening (5–9 PM)** hours.\n",
    "* **High number of requests** were made **from the city to the airport in the morning**, and **from the airport to the city in the evening**.\n",
    "\n",
    "### 2. **Supply-Demand Gap**\n",
    "\n",
    "* There’s a **significant gap between demand and completed trips** in peak hours.\n",
    "\n",
    "  * **Morning Peak (City → Airport)**: Large number of requests, but many were marked as **\"No Cars Available\"**.\n",
    "  * **Evening Peak (Airport → City)**: High number of **\"Cancelled\"** trips.\n",
    "\n",
    "### 3. **Cancellation and Availability Issues**\n",
    "\n",
    "* **Cancellations** were highest in **airport to city** trips during **evening hours**.\n",
    "* **No cars available** was most common in **city to airport** trips during **morning hours**.\n",
    "\n",
    "### 4. **Driver Behavior Insight**\n",
    "\n",
    "* Many requests lacked a `Driver id`, showing **drivers were not accepting trips** during high-demand times.\n",
    "* Suggests **imbalanced supply** — possibly due to shift timing preferences or ride direction profitability.\n",
    "\n",
    "---\n",
    "\n",
    "##   Key Problems Identified\n",
    "\n",
    "| Problem               | Time              | Pickup Point | Status          |\n",
    "| --------------------- | ----------------- | ------------ | --------------- |\n",
    "| 🚫 No Cars Available  | Morning (5–10 AM) | City         | Supply Shortage |\n",
    "| 🚫 High Cancellations | Evening (5–9 PM)  | Airport      | Driver Refusal  |\n",
    "\n",
    "---\n"
   ]
  },
  {
   "cell_type": "markdown",
   "id": "a83f1482-3ffe-41a8-9b74-522a76b84ce1",
   "metadata": {},
   "source": [
    "## ***4. Data Vizualization, Storytelling & Experimenting with charts : Understand the relationships between variables***"
   ]
  },
  {
   "cell_type": "markdown",
   "id": "689c7358-f8f0-4ecb-914b-8e96661f62f1",
   "metadata": {},
   "source": [
    "#### Univariate Analysis -**"
   ]
  },
  {
   "cell_type": "markdown",
   "id": "bdbf3c8a-5121-4315-9244-e2fabf189924",
   "metadata": {},
   "source": [
    "#### Chart 1- "
   ]
  },
  {
   "cell_type": "code",
   "execution_count": 212,
   "id": "ed0eaf96-cd64-4404-9130-bda85436ec59",
   "metadata": {},
   "outputs": [
    {
     "data": {
      "image/png": "[encoded data removed]",
      "text/plain": [
       "<Figure size 600x300 with 1 Axes>"
      ]
     },
     "metadata": {},
     "output_type": "display_data"
    }
   ],
   "source": [
    "plt.figure(figsize=(6,3))\n",
    "uber.Status.value_counts(normalize=True,ascending=True).plot.bar()\n",
    "plt.show()"
   ]
  },
  {
   "cell_type": "markdown",
   "id": "6282604c-1fb4-45d3-8b7b-7bd1602e0290",
   "metadata": {},
   "source": [
    "##### 1. Why did you pick the specific chart?\n",
    "\n",
    "**Answer---** I selected the bar chart to visualizing the frequency the Request Status Distribution because it is the most effective way to show how frequently each status category occurs in a categorical variable like Status."
   ]
  },
  {
   "cell_type": "markdown",
   "id": "90b72df6-5690-41ee-b61f-7f0b549dd541",
   "metadata": {},
   "source": [
    "##### 2. What is/are the insight(s) found from the chart?\n",
    "\n",
    "**Answer---** \n",
    "\n",
    "**Insights from this chart:**\n",
    "\n",
    "**1.High number of incomplete trips:**\n",
    "\n",
    "The number of trips marked as Cancelled or No Cars Available is significantly high, indicating operational inefficiencies or supply-demand mismatch.\n",
    "\n",
    "**2.Low fulfillment rate:**\n",
    "\n",
    "If Trip Completed is significantly lower than the other statuses, it suggests that many customers are unable to get rides, possibly due to driver unavailability.\n",
    "\n",
    "**3.Dominant failure mode:**\n",
    "\n",
    "By comparing the heights of the bars for Cancelled vs No Cars Available, you can identify which issue is more frequent:\n",
    "\n",
    "A high number of Cancelled trips could imply rider impatience or driver behavior.\n",
    "\n",
    "A high number of No Cars Available trips may reflect a lack of available drivers during peak hours or in certain locations."
   ]
  },
  {
   "cell_type": "markdown",
   "id": "23db8c58-f198-4f22-9ad2-619c35ed5031",
   "metadata": {},
   "source": [
    "##### 3. Will the gained insights help creating a positive business impact?\n",
    "\n",
    "**Answer---** \n",
    " \n",
    "**Insights -** \n",
    "\n",
    "**1.High Number of Cancellations and “No Cars Available” Requests**\n",
    "**Business Impact**:\n",
    "\n",
    "* **Operational Optimization**: Indicates either a **supply-demand mismatch** or a poor driver allocation algorithm.\n",
    "* **Actionable Strategy**: Uber can incentivize drivers during peak hours or adjust dynamic pricing to meet demand.\n",
    "* **Business Result**: Increases **ride completion rate** and **revenue**, reduces **customer churn**.\n",
    "\n",
    "**2.No Cars Available\" more common during night hours.**\n",
    "**Business Impact**:\n",
    "\n",
    "* **Incentive Programs**: Special bonuses for night-shift drivers to stay online.\n",
    "* **Business Result**: Converts missed opportunities into completed rides, increasing **utilization rate**.\n"
   ]
  },
  {
   "cell_type": "markdown",
   "id": "71e4aae2-900b-405e-9dc3-c65023387661",
   "metadata": {},
   "source": [
    "#### Chart - 2 "
   ]
  },
  {
   "cell_type": "code",
   "execution_count": 228,
   "id": "462286ee-2f99-490e-b66e-daa812425a56",
   "metadata": {},
   "outputs": [
    {
     "data": {
      "image/png": "[encoded data removed]",
      "text/plain": [
       "<Figure size 600x400 with 1 Axes>"
      ]
     },
     "metadata": {},
     "output_type": "display_data"
    }
   ],
   "source": [
    "# Request status distribution\n",
    "plt.figure(figsize=(6,4))\n",
    "sns.countplot(data=uber, x='Status', palette='Set2' , hue='Status')\n",
    "plt.title('Request Status Distribution')\n",
    "plt.show() "
   ]
  },
  {
   "cell_type": "markdown",
   "id": "7ad6ded5-82a7-4efe-a33a-2eca9174a8b7",
   "metadata": {},
   "source": [
    "##### 1. Why did you pick the specific chart?\n",
    "\n",
    "**Answer---** I selected the count plot (bar chart using sns.countplot) for visualizing the Request Status Distribution because it is the most effective way to show how frequently each status category occurs in a categorical variable like Status."
   ]
  },
  {
   "cell_type": "markdown",
   "id": "ee41cd81-d031-41a4-92ff-c9aac4e45878",
   "metadata": {},
   "source": [
    "##### 2. What is/are the insight(s) found from the chart?\n",
    "\n",
    "**Answer---** \n",
    "Insights from this chart:\n",
    "\n",
    "**1.High number of incomplete trips:**\n",
    "\n",
    "The number of trips marked as Cancelled or No Cars Available is significantly high, indicating operational inefficiencies or supply-demand mismatch.\n",
    "\n",
    "**2.Low fulfillment rate:**\n",
    "\n",
    "If Trip Completed is significantly lower than the other statuses, it suggests that many customers are unable to get rides, possibly due to driver unavailability.\n",
    "\n",
    "**3.Dominant failure mode:**\n",
    "\n",
    "By comparing the heights of the bars for Cancelled vs No Cars Available, you can identify which issue is more frequent:\n",
    "\n",
    "A high number of Cancelled trips could imply rider impatience or driver behavior.\n",
    "\n",
    "A high number of No Cars Available trips may reflect a lack of available drivers during peak hours or in certain locations."
   ]
  },
  {
   "cell_type": "markdown",
   "id": "c62f8d0f-4edb-44dd-8a3b-3429dc813af2",
   "metadata": {},
   "source": [
    "##### 3. Will the gained insights help creating a positive business impact?\n",
    "\n",
    "**Answer---** \n",
    " \n",
    "**Insights -** \n",
    "\n",
    "**1.High Number of Cancellations and “No Cars Available” Requests**\n",
    "\n",
    "**Business Impact**:\n",
    "\n",
    "* **Operational Optimization**: Indicates either a **supply-demand mismatch** or a poor driver allocation algorithm.\n",
    "* **Actionable Strategy**: Uber can incentivize drivers during peak hours or adjust dynamic pricing to meet demand.\n",
    "* **Business Result**: Increases **ride completion rate** and **revenue**, reduces **customer churn**.\n",
    "\n",
    "**2.\"No Cars Available\" more common during night hours.**\n",
    "**Business Impact**:\n",
    "\n",
    "* **Incentive Programs**: Special bonuses for night-shift drivers to stay online.\n",
    "* **Business Result**: Converts missed opportunities into completed rides, increasing **utilization rate**."
   ]
  },
  {
   "cell_type": "markdown",
   "id": "149877f3-9729-417b-a852-15cbfea8624c",
   "metadata": {},
   "source": [
    "#### Chart - 3"
   ]
  },
  {
   "cell_type": "code",
   "execution_count": 278,
   "id": "af8a9b67-9eca-4940-b097-47db19433ebc",
   "metadata": {},
   "outputs": [
    {
     "name": "stdout",
     "output_type": "stream",
     "text": [
      "\n",
      "Trip Status distribution\n",
      "                    count    percent\n",
      "Status                             \n",
      "Trip Completed      2831  41.971831\n",
      "No Cars Available   2650  39.288362\n",
      "Cancelled           1264  18.739807\n"
     ]
    }
   ],
   "source": [
    "# Trip status breakdown\n",
    "status_summary = (\n",
    "    uber['Status']\n",
    "      .value_counts(dropna=False)\n",
    "      .to_frame('count')\n",
    "      .assign(percent=lambda x: x['count']*100/len(uber))\n",
    ")\n",
    "print(\"\\nTrip Status distribution\\n\", status_summary)"
   ]
  },
  {
   "cell_type": "code",
   "execution_count": 279,
   "id": "e52fed5e-f54c-495f-ab57-a31976a598f3",
   "metadata": {},
   "outputs": [
    {
     "data": {
      "image/png": "[encoded data removed]",
      "text/plain": [
       "<Figure size 1000x400 with 1 Axes>"
      ]
     },
     "metadata": {},
     "output_type": "display_data"
    }
   ],
   "source": [
    "plt.figure(figsize=(10,4))\n",
    "plt.pie(status_summary['count'], labels=status_summary.index, autopct='%1.1f%%', startangle=90, colors=sns.color_palette('pastel'))\n",
    "plt.title('Trip Status Breakdown', fontsize = 18, fontweight = 'bold')\n",
    "plt.axis('equal') \n",
    "plt.legend(loc='upper left', bbox_to_anchor=(1, 0, 0.5, 1))\n",
    "plt.show()"
   ]
  },
  {
   "cell_type": "markdown",
   "id": "397320db-76c9-4dd3-ac41-e6a5dad729d8",
   "metadata": {},
   "source": [
    "##### 1. Why did you pick the specific chart?\n",
    "\n",
    "**Answer--**\n",
    "\n",
    "The pie chart enables users to visually identify easily the proportions of categorical variables and determine which trip statuses predominate."
   ]
  },
  {
   "cell_type": "markdown",
   "id": "b7448fd8-02c3-4571-a35f-2f4b20dbf0bf",
   "metadata": {},
   "source": [
    "##### 2. What is/are the insight(s) found from the chart?\n",
    "\n",
    "**Answer--**\n",
    "\n",
    "Most of the trips are cancelled or unavailable cars, and hence most of the requests are not fulfilled."
   ]
  },
  {
   "cell_type": "markdown",
   "id": "4fe675d5-8a7e-45ef-a629-fc44cd3cf80d",
   "metadata": {},
   "source": [
    "##### 3. Will the gained insights help creating a positive business impact\n",
    "\n",
    "**Answer--**\n",
    "\n",
    "This insight shows a key supply problem. Too many cancellations or no-car situations are a bad business sign, leading to revenue loss and poor customer experience. This calls for an immediate intervention to improve supply or cut cancellations."
   ]
  },
  {
   "cell_type": "markdown",
   "id": "c87d2fdf-6e48-48b9-a8ed-13f168b4bb03",
   "metadata": {},
   "source": [
    "#### Chart - 4"
   ]
  },
  {
   "cell_type": "code",
   "execution_count": 280,
   "id": "f6da3c4e-de86-4e06-b43b-a19d440c6736",
   "metadata": {},
   "outputs": [
    {
     "name": "stdout",
     "output_type": "stream",
     "text": [
      "Requests per Hour\n",
      "               count   percent\n",
      "Request_hour                 \n",
      "0                99  1.467754\n",
      "1                85  1.260193\n",
      "2                99  1.467754\n",
      "3                92  1.363973\n",
      "4               203  3.009637\n",
      "5               445  6.597480\n",
      "6               398  5.900667\n",
      "7               406  6.019274\n",
      "8               423  6.271312\n",
      "9               431  6.389918\n",
      "10              243  3.602669\n",
      "11              171  2.535211\n",
      "12              184  2.727947\n",
      "13              160  2.372128\n",
      "14              136  2.016308\n",
      "15              171  2.535211\n",
      "16              159  2.357302\n",
      "17              418  6.197183\n",
      "18              510  7.561156\n",
      "19              473  7.012602\n",
      "20              492  7.294292\n",
      "21              449  6.656783\n",
      "22              304  4.507042\n",
      "23              194  2.876205\n"
     ]
    }
   ],
   "source": [
    "# Hourly Request\n",
    "\n",
    "# Hourly Requests\n",
    "hourly_summary = (\n",
    "    uber['Request_hour']\n",
    "      .value_counts(dropna=False)\n",
    "      .sort_index()                             # 0‑23 order\n",
    "      .to_frame('count')\n",
    "      .assign(percent=lambda x: x['count']*100/len(uber))\n",
    ")\n",
    "print(\"Requests per Hour\\n\", hourly_summary)\n"
   ]
  },
  {
   "cell_type": "code",
   "execution_count": 281,
   "id": "08ee64a7-bf98-494d-964b-2b42f2392f2f",
   "metadata": {},
   "outputs": [
    {
     "data": {
      "image/png": "[encoded data removed]",
      "text/plain": [
       "<Figure size 1000x400 with 1 Axes>"
      ]
     },
     "metadata": {},
     "output_type": "display_data"
    }
   ],
   "source": [
    "plt.figure(figsize=(10,4))\n",
    "plt.plot(hourly_summary.index, hourly_summary['count'], color='orange', linewidth=3, marker = 'o')\n",
    "plt.title(\"Hourly Request Volume Trend\", fontsize = 18, fontweight = 'bold')\n",
    "plt.xlabel(\"Hour of Day\", fontsize = 12)\n",
    "plt.ylabel(\"Number of Requests\", fontsize = 12)\n",
    "plt.xticks(range(0,24))\n",
    "plt.grid(alpha = 0.3)\n",
    "plt.show()"
   ]
  },
  {
   "cell_type": "markdown",
   "id": "cb30d1fa-5cd8-4fcf-99e4-9b4060075cd7",
   "metadata": {},
   "source": [
    "##### 1. Why did you pick the specific chart?\n",
    "\n",
    "**Answer--**\n",
    "\n",
    "Hourly trends are ideally represented by a line graph, so the 24-hour demand curve can be visualized."
   ]
  },
  {
   "cell_type": "markdown",
   "id": "cf7197af-201a-4e4a-9e56-59789a271fb3",
   "metadata": {},
   "source": [
    "##### 2. What is/are the insight(s) found from the chart?\n",
    "\n",
    "**Answer--**\n",
    "\n",
    "Peak demand occurs during morning (5-9 AM) and evening (5-9 PM) hours, matching the customer behaviour"
   ]
  },
  {
   "cell_type": "markdown",
   "id": "e83fe03d-7abe-4f71-b9c7-dfc6b147eff8",
   "metadata": {},
   "source": [
    "##### 3. Will the gained insights help creating a positive business impact?\n",
    "\n",
    "**Answer--**\n",
    "\n",
    "This insights is important for driver deployment. The absence of scaled supply within these times leads to business loss and customer churn. Fixed this makes user satisfaction better."
   ]
  },
  {
   "cell_type": "markdown",
   "id": "c10cf2cc-9022-444b-855e-45b9c1dd10c9",
   "metadata": {},
   "source": [
    "### Bivariate analysis ###"
   ]
  },
  {
   "cell_type": "markdown",
   "id": "442edc2d-cd58-4992-a74d-cd4d3e77ce71",
   "metadata": {},
   "source": [
    "#### Chart - 5"
   ]
  },
  {
   "cell_type": "code",
   "execution_count": 233,
   "id": "c0bea6c7-23a3-46a1-a99f-359e45dccdf2",
   "metadata": {},
   "outputs": [
    {
     "data": {
      "image/png": "[encoded data removed]",
      "text/plain": [
       "<Figure size 800x500 with 1 Axes>"
      ]
     },
     "metadata": {},
     "output_type": "display_data"
    }
   ],
   "source": [
    "# Plot frequency by pickup point\n",
    "plt.figure(figsize=(8,5))\n",
    "sns.countplot(data=uber, x='Pickup_point', hue='Status', palette='Set1')\n",
    "plt.title('Pickup_Point vs Status')\n",
    "plt.show()"
   ]
  },
  {
   "cell_type": "markdown",
   "id": "25882a8b-b50d-4ba1-b7b1-4a449275f294",
   "metadata": {},
   "source": [
    "##### 1. Why did you pick the specific chart?\n",
    "\n",
    "**Answer---** I chose the countplot with hue to plot \"Pickup point\" vs \"Status\" because it is the most effective and intuitive way to compare categorical data distributions, especially when segmented by a secondary category."
   ]
  },
  {
   "cell_type": "markdown",
   "id": "08416f3e-da93-4fe3-950b-9ed447bd42da",
   "metadata": {},
   "source": [
    "##### 2. What is/are the insight(s) found from the chart?\n",
    "\n",
    "**Answer---** \n",
    "**Insights from the Chart:**\n",
    "\n",
    "**1.High Demand at the Airport:**\n",
    "\n",
    "There are significantly more requests originating from the Airport compared to the City.\n",
    "\n",
    "This suggests that passengers arriving at the airport are frequently booking cabs.\n",
    "\n",
    "**2.More ‘No Cars Available’ at Airport:**\n",
    "\n",
    "A large portion of airport requests result in ‘No Cars Available’ status.\n",
    "\n",
    "This indicates that cab supply at the airport is insufficient to meet the high demand.\n",
    "\n",
    "**3.More Cancellations from the City:**\n",
    "\n",
    "In contrast, the City shows a higher count of cancellations, likely due to drivers cancelling the trip.\n",
    "\n",
    "This may be due to longer trip distances, traffic, or unappealing drop locations.\n",
    "\n",
    "**4.Completed Trips More Balanced:**\n",
    "\n",
    "The number of Completed trips is more evenly distributed across both pickup points, but still slightly higher for the City.\n",
    "\n",
    "Suggests that trips originating in the city are more likely to be fulfilled if not cancelled."
   ]
  },
  {
   "cell_type": "markdown",
   "id": "6524f992-53a7-450f-a317-c17f897f14ad",
   "metadata": {},
   "source": [
    "##### 3. Will the gained insights help creating a positive business impact?\n",
    "\n",
    "**Answer---** \n",
    " \n",
    "**Insights -** \n",
    "\n",
    "**1.Demand-Supply Mismatch Identification-**\n",
    "\n",
    "By analyzing the **Status** of ride requests (Completed, Cancelled, No Cars Available), especially across **pickup points (City vs. Airport)** and **hours of the day**, we uncover:\n",
    "\n",
    "* **Peak hours with high cancellations or no availability**\n",
    "* **Pickup zones needing better car allocation**\n",
    "\n",
    "**Impact:**\n",
    "Uber can **optimize driver allocation** and **incentivize driver availability** during high-demand hours to reduce customer churn.\n",
    "\n",
    "**2. Improved Driver Deployment-**\n",
    "\n",
    "The frequency plots reveal **temporal and spatial trends** in ride requests and failures:\n",
    "\n",
    "* For instance, higher cancellations from the **City during morning hours** might indicate **driver reluctance** or **traffic congestion**.\n",
    "\n",
    "**Impact:**\n",
    "Helps design **driver training, dynamic pricing, or route-based incentives** to ensure better service coverage.\n",
    "\n",
    "\n",
    "**3. Operational Efficiency**\n",
    "\n",
    "Identifying patterns such as:\n",
    "\n",
    "* More **\"No Cars Available\"** at the airport during late hours\n",
    "* High **ride cancellation rate** from certain locations\n",
    "\n",
    "**Impact:**\n",
    "Uber can refine its **forecasting models**, prepare **backup fleet strategies**, or introduce **shuttle/pooled options** to fill service gaps.\n",
    " \n",
    "\n",
    "**4. Enhanced Customer Experience**\n",
    "\n",
    "By addressing the bottlenecks exposed through data:\n",
    "\n",
    "* Fewer cancellations\n",
    "* Higher likelihood of finding a ride\n",
    "\n",
    "**Impact:**\n",
    "Boosts **customer retention, satisfaction, and app ratings**.\n",
    "\n",
    "\n",
    "**5. Data-Driven Decision Making**\n",
    "\n",
    "The entire EDA helps management back decisions with **real usage data**, like:\n",
    "\n",
    "* Whether to open new driver hubs\n",
    "* How to balance city vs. airport coverage\n",
    "* When to apply surge pricing\n"
   ]
  },
  {
   "cell_type": "markdown",
   "id": "2a3b24d5-691d-4dcf-9615-046d214f567a",
   "metadata": {},
   "source": [
    "#### Chart - 6"
   ]
  },
  {
   "cell_type": "code",
   "execution_count": 236,
   "id": "52f3d323-2af0-45da-a9cc-cc2933ccf049",
   "metadata": {},
   "outputs": [
    {
     "data": {
      "image/png": "[encoded data removed]",
      "text/plain": [
       "<Figure size 1000x500 with 1 Axes>"
      ]
     },
     "metadata": {},
     "output_type": "display_data"
    }
   ],
   "source": [
    "# Plot hourly demand\n",
    "plt.figure(figsize=(10,5))\n",
    "sns.countplot(data=uber, x='Request_hour', hue='Status', palette='coolwarm')\n",
    "plt.title('Hourly Request Distribution')\n",
    "plt.xticks(rotation=0)\n",
    "plt.show()"
   ]
  },
  {
   "cell_type": "markdown",
   "id": "9c4b7344-6c6c-4351-b6f9-ad9bccc21c32",
   "metadata": {},
   "source": [
    "##### 1. Why did you pick the specific chart?\n",
    "\n",
    "**Answer---** A count plot was selected because it effectively compares the number and status of ride requests across different hours, helping to uncover operational inefficiencies, peak load times, and when service disruptions (like \"No Cars Available\") are most likely to happen."
   ]
  },
  {
   "cell_type": "markdown",
   "id": "db6bd4b6-8ebf-4249-9a63-daa559f68a5b",
   "metadata": {},
   "source": [
    "##### 2. What is/are the insight(s) found from the chart?\n",
    "\n",
    "**Answer---**\n",
    "\n",
    "**Insights from the chart:**\n",
    "\n",
    "**1.High Morning Demand (7–9 AM):-**\n",
    "\n",
    "There's a noticeable spike in requests.\n",
    "\n",
    "A large portion of these are \"No Cars Available\", especially from the City pickup point.\n",
    "\n",
    "Suggests supply-demand mismatch during office commute time.\n",
    "\n",
    "**2.Evening Peak (5–9 PM):-**\n",
    "\n",
    "Another major demand spike.\n",
    "\n",
    "Significant number of \"Cancelled\" rides.\n",
    "\n",
    "Indicates issues like driver cancellations, possibly due to traffic or unprofitable routes.\n",
    "\n",
    "**3.Late Night to Early Morning (12 AM – 5 AM):-**\n",
    "\n",
    "Very few requests — expected due to low commuter activity.\n",
    "\n",
    "Most are either \"Completed\" or \"No Cars Available\" depending on the time.\n",
    "\n",
    "**4.Afternoon Dip (12 PM – 4 PM):-**\n",
    "\n",
    "Lower demand, fewer ride failures.\n",
    "\n",
    "Uber’s system handles this time well."
   ]
  },
  {
   "cell_type": "markdown",
   "id": "bdb0ba16-a24e-475e-907c-5e72c100a781",
   "metadata": {},
   "source": [
    "##### 3. Will the gained insights help creating a positive business impact?\n",
    "\n",
    "**Answer---**\n",
    "\n",
    "**1.Understanding Demand Patterns**\n",
    "\n",
    "* By analyzing **hourly request distribution**, the company can clearly identify **peak demand hours** (e.g., morning office hours or evening rush).\n",
    "* **Impact:** Helps optimize driver allocation during high-demand hours, reducing wait times and improving customer satisfaction.\n",
    "\n",
    " \n",
    "**2.Pickup Point Analysis**\n",
    "\n",
    "* The **Pickup Point vs Status** chart highlights where most ride requests are being made (e.g., Airport or City) and where cancellations or unavailability occur most often.\n",
    "* **Impact:**\n",
    "\n",
    "  * Allocate more drivers to areas with frequent ride cancellations or unfulfilled requests.\n",
    "  * Tailor pricing and promotions to specific locations.\n",
    " \n",
    "**3.Request Status Distribution**\n",
    "\n",
    "* Knowing the proportion of **Completed, Cancelled, and No Cars Available** requests allows the business to measure service reliability.\n",
    "* **Impact:**\n",
    "\n",
    "  * Reduce cancellations by identifying and addressing reasons (e.g., long wait times, fewer drivers).\n",
    "  * Increase customer retention by improving service availability.\n",
    "\n",
    "**4.Driver Scheduling Optimization**\n",
    "\n",
    "* Combining all the insights (time of day, pickup points, and status) allows for **smarter shift planning** for drivers.\n",
    "* **Impact:**\n",
    "\n",
    "  * Reduces idle driver time during low-demand periods.\n",
    "  * Boosts driver earnings and operational efficiency.\n",
    "\n",
    "**5.Strategic Decision Making**\n",
    "\n",
    "* The data reveals **bottlenecks** in the service funnel – such as when many requests go unfulfilled due to lack of cars.\n",
    "* **Impact:**\n",
    "\n",
    "  * Invest in more drivers or dynamic pricing to manage surges.\n",
    "  * Introduce features like ride pre-booking during peak hours."
   ]
  },
  {
   "cell_type": "markdown",
   "id": "9762e9f5-46e1-4ea4-9c92-0655fef6a51e",
   "metadata": {},
   "source": [
    "#### Chart - 7"
   ]
  },
  {
   "cell_type": "code",
   "execution_count": 243,
   "id": "1413ed6f-7924-41a2-8cd1-6c2ba2f237bb",
   "metadata": {},
   "outputs": [
    {
     "data": {
      "image/png": "[encoded data removed]",
      "text/plain": [
       "<Figure size 900x400 with 1 Axes>"
      ]
     },
     "metadata": {},
     "output_type": "display_data"
    }
   ],
   "source": [
    "daily_status = uber.groupby(['Request_day', 'Status']).size().unstack().fillna(0)\n",
    "daily_status.plot(kind='bar', stacked=True, figsize=(9,4))\n",
    "plt.title('Daily Request Status Trend')\n",
    "plt.ylabel('Request Count')\n",
    "plt.xticks(rotation=45)\n",
    "plt.tight_layout()\n",
    "plt.show()"
   ]
  },
  {
   "cell_type": "markdown",
   "id": "71bba4ac-2c96-4c74-845a-eea80a912679",
   "metadata": {},
   "source": [
    "##### 1. Why did you pick the specific chart?\n",
    "\n",
    "**Answer--**\n",
    "\n",
    "A stacked bar chart by day and status is ideal to show how demand and fulfillment vary across days, helping stakeholders spot patterns, trends, and potential service gaps over time."
   ]
  },
  {
   "cell_type": "markdown",
   "id": "960f3c2f-5630-4c03-849d-1bb55ef9bc73",
   "metadata": {},
   "source": [
    "##### 2. What is/are the insight(s) found from the chart?\n",
    "\n",
    "**Answer--**\n",
    "  \n",
    "**1. Peak Demand Days**\n",
    "Days with taller bars represent high request volumes.\n",
    "\n",
    "You can spot which days had the highest demand, useful for resource planning (e.g., more drivers needed).\n",
    "\n",
    "**2. Service Efficiency**\n",
    "Larger green portions (Trip Completed) indicate better service performance on those days.\n",
    "\n",
    "If the green section is consistently small, it suggests low fulfillment rates.\n",
    "\n",
    "**3. Cancellations & Unavailability Trends**\n",
    "More red (Cancelled) or orange/yellow (No Cars Available) means operational issues.\n",
    "\n",
    "Example insights:\n",
    "\n",
    "Certain days have high cancellation rates (could be due to traffic, weather, or driver no-shows).\n",
    "\n",
    "Frequent \"No Cars Available\" indicates supply-demand imbalance (demand exceeded supply).\n",
    "\n",
    "**4. Daily Pattern Clusters**\n",
    "You might notice that weekends or weekdays follow different patterns.\n",
    "\n",
    "E.g., Weekends may have high demand but low fulfillment.\n",
    "\n",
    "Or weekdays may have more “Trip Completed” statuses.\n",
    "\n",
    "**5. Potential Improvement Areas**\n",
    "Days where \"No Cars Available\" dominates are opportunities to deploy more drivers or improve coverage.\n",
    "\n",
    "Cancellations clustering on specific dates may need policy changes or incentives for drivers."
   ]
  },
  {
   "cell_type": "markdown",
   "id": "4f2f882f-c6fd-4923-b598-6e9bdc045a14",
   "metadata": {},
   "source": [
    "##### 3. Will the gained insights help creating a positive business impact?\n",
    "\n",
    "**Answer--**\n",
    "\n",
    " How These Insights Can Drive Positive Business Impact\n",
    "\n",
    "**1.Better Resource Planning**\n",
    "\n",
    "Allocate more drivers on high-demand days (e.g., weekends or holidays).\n",
    "\n",
    "Prevent \"No Cars Available\" issues by forecasting supply needs.\n",
    "\n",
    "**2.Improve Customer Experience**\n",
    "\n",
    "Reducing cancellation rates and supply gaps directly enhances reliability.\n",
    "\n",
    "Satisfied customers are more likely to rebook and refer others.\n",
    "\n",
    "**3.Boost Revenue**\n",
    "\n",
    "Meeting demand consistently means fewer lost trips, leading to higher revenue.\n",
    "\n",
    "**4.Operational Improvements**\n",
    "\n",
    "Identify internal or external factors leading to cancellations and address them (e.g., incentives for drivers, app/UX fixes, etc.).\n",
    "\n",
    "**5.Strategic Planning**\n",
    "\n",
    "Use patterns over time to align with marketing, pricing, and staffing strategies."
   ]
  },
  {
   "cell_type": "markdown",
   "id": "96415397-9e65-4f54-88a9-a8cbc3a44bf7",
   "metadata": {},
   "source": [
    "#### Chart - 8"
   ]
  },
  {
   "cell_type": "code",
   "execution_count": 245,
   "id": "72145652-2816-4113-a4d8-6a8473e8e27a",
   "metadata": {},
   "outputs": [
    {
     "data": {
      "image/png": "[encoded data removed]",
      "text/plain": [
       "<Figure size 800x500 with 1 Axes>"
      ]
     },
     "metadata": {},
     "output_type": "display_data"
    }
   ],
   "source": [
    "# Time slot vs status\n",
    "plt.figure(figsize=(8,5))\n",
    "sns.countplot(data=uber, x='Time_slot', hue='Status', palette='muted', order=['Early Morning', 'Morning', 'Afternoon', 'Evening', 'Late Night'])\n",
    "plt.title('Request Status by Time Slot')\n",
    "plt.xticks(rotation=45)\n",
    "plt.tight_layout()\n",
    "plt.show()"
   ]
  },
  {
   "cell_type": "markdown",
   "id": "abd16608-69f5-4d02-89e7-af7fcbf3f136",
   "metadata": {},
   "source": [
    "##### 1. Why did you pick the specific chart?\n",
    "\n",
    "**Answer--**\n",
    "I have selected this chart because, this chart is the most effective for analyzing how request outcomes vary by time of day."
   ]
  },
  {
   "cell_type": "markdown",
   "id": "b129b139-1b14-4949-a51d-47243b655e95",
   "metadata": {},
   "source": [
    "##### 2. What is/are the insight(s) found from the chart?\n",
    "\n",
    "**Answer--**\n",
    "\n",
    "**Insights:**\n",
    "\n",
    "**1.Early Morning Rush (5 AM - 8 AM):**\n",
    "\n",
    "High number of \"No Cars Available\":\n",
    "Most requests are not fulfilled due to unavailability of cars.\n",
    "\n",
    "**2.Morning Rush (8 AM - 12 AM):**\n",
    "\n",
    "High number of \"No Cars Available\":\n",
    "Most requests are not fulfilled due to unavailability of cars.\n",
    "\n",
    "Suggests demand > supply in the morning.\n",
    "\n",
    "**3.Evening Rush (5 PM - 10 PM):**\n",
    "\n",
    "High number of \"Cancelled\" requests:\n",
    "Drivers cancel more frequently during this time.\n",
    "\n",
    "Indicates possible driver-side issues like traffic or selective acceptance.\n",
    "\n",
    "**4.Night and Early Morning (10 PM - 5 AM):**\n",
    "\n",
    "Fewer total requests, but a higher proportion of \"No Cars Available\".\n",
    "\n",
    "Could reflect limited driver availability during off-peak hours.\n",
    "\n",
    "**5.Afternoon (11 AM - 4 PM):**\n",
    "\n",
    "Mostly completed trips, low issues.\n",
    "\n",
    "Indicates a relatively balanced demand-supply during this time."
   ]
  },
  {
   "cell_type": "markdown",
   "id": "b1450879-b17a-4caf-ab0e-3233f47840fc",
   "metadata": {},
   "source": [
    "##### 3. Will the gained insights help creating a positive business impact\n",
    "\n",
    "**Answer--**\n",
    "\n",
    "**1. Addressing Supply-Demand Gaps**\n",
    "Morning time slot shows high \"No Cars Available\" rates.\n",
    "\n",
    "**Impact:** Uber can increase driver incentives or rebalance supply during these hours, leading to more completed rides, higher revenue, and improved customer satisfaction.\n",
    "\n",
    "**2. Reducing Cancellations**\n",
    "Evening time slot has a spike in cancellations.\n",
    "\n",
    "**Impact:** Uber can investigate causes—e.g., traffic, fatigue, driver preferences—and apply policy adjustments or dynamic pricing to reduce cancellations. This improves reliability and retains customers.\n",
    "\n",
    "**3. Optimizing Operations**\n",
    "Afternoon time slot is relatively smooth.\n",
    "\n",
    "**Impact:** Uber can keep operations stable here and possibly reallocate drivers to other time slots, improving overall fleet efficiency.\n",
    "\n",
    "**4. Enhancing Driver Engagement**\n",
    "Low availability at night could be due to lack of motivation.\n",
    "\n",
    "**Impact:** Introducing night-time bonuses or safety measures might boost driver participation, increasing revenue from late-night demand.\n",
    "\n",
    "**5. Data-Driven Decision-Making**\n",
    "These insights form a solid foundation for planning:\n",
    "\n",
    "Surge pricing\n",
    "\n",
    "Driver shift scheduling\n",
    "\n",
    "Targeted promotions"
   ]
  },
  {
   "cell_type": "markdown",
   "id": "d9129d7a-c2a7-4354-a3d8-53b5edea0bd6",
   "metadata": {},
   "source": [
    "#### Chart - 9"
   ]
  },
  {
   "cell_type": "code",
   "execution_count": 246,
   "id": "257b894d-e546-42a8-a1dc-77119201523d",
   "metadata": {},
   "outputs": [
    {
     "data": {
      "text/plain": [
       "Status             Pickup_point\n",
       "Cancelled          Airport          198\n",
       "                   City            1066\n",
       "No Cars Available  Airport         1713\n",
       "                   City             937\n",
       "Trip Completed     Airport         1327\n",
       "                   City            1504\n",
       "dtype: int64"
      ]
     },
     "execution_count": 246,
     "metadata": {},
     "output_type": "execute_result"
    }
   ],
   "source": [
    "# count of trips for each status with respect to Pickup_points\n",
    "\n",
    "uber.groupby(['Status', 'Pickup_point']).size()"
   ]
  },
  {
   "cell_type": "code",
   "execution_count": 248,
   "id": "e95c6229-dff4-4eaf-a2db-b23f008387d3",
   "metadata": {},
   "outputs": [
    {
     "data": {
      "text/html": [
       "<div>\n",
       "<style scoped>\n",
       "    .dataframe tbody tr th:only-of-type {\n",
       "        vertical-align: middle;\n",
       "    }\n",
       "\n",
       "    .dataframe tbody tr th {\n",
       "        vertical-align: top;\n",
       "    }\n",
       "\n",
       "    .dataframe thead th {\n",
       "        text-align: right;\n",
       "    }\n",
       "</style>\n",
       "<table border=\"1\" class=\"dataframe\">\n",
       "  <thead>\n",
       "    <tr style=\"text-align: right;\">\n",
       "      <th>Status</th>\n",
       "      <th>Cancelled</th>\n",
       "      <th>No Cars Available</th>\n",
       "      <th>Trip Completed</th>\n",
       "    </tr>\n",
       "    <tr>\n",
       "      <th>Pickup_point</th>\n",
       "      <th></th>\n",
       "      <th></th>\n",
       "      <th></th>\n",
       "    </tr>\n",
       "  </thead>\n",
       "  <tbody>\n",
       "    <tr>\n",
       "      <th>Airport</th>\n",
       "      <td>198</td>\n",
       "      <td>1713</td>\n",
       "      <td>1327</td>\n",
       "    </tr>\n",
       "    <tr>\n",
       "      <th>City</th>\n",
       "      <td>1066</td>\n",
       "      <td>937</td>\n",
       "      <td>1504</td>\n",
       "    </tr>\n",
       "  </tbody>\n",
       "</table>\n",
       "</div>"
      ],
      "text/plain": [
       "Status        Cancelled  No Cars Available  Trip Completed\n",
       "Pickup_point                                              \n",
       "Airport             198               1713            1327\n",
       "City               1066                937            1504"
      ]
     },
     "execution_count": 248,
     "metadata": {},
     "output_type": "execute_result"
    }
   ],
   "source": [
    "# Making use of crosstab approach so that we can make of matplots to plot visual for 2 categorical variables\n",
    "\n",
    "groupresults=pd.crosstab(index=uber['Pickup_point'],columns=uber['Status'])\n",
    "groupresults"
   ]
  },
  {
   "cell_type": "code",
   "execution_count": 256,
   "id": "364a42e0-c774-4c03-80db-29194750d65d",
   "metadata": {},
   "outputs": [
    {
     "data": {
      "image/png": "[encoded data removed]",
      "text/plain": [
       "<Figure size 640x480 with 1 Axes>"
      ]
     },
     "metadata": {},
     "output_type": "display_data"
    }
   ],
   "source": [
    "# groupresults.plot.bar()\n",
    "groupresults.plot.bar()\n",
    "plt.legend(bbox_to_anchor=(1.05, 1.0), loc='upper left')\n",
    "plt.ylabel(\"Count\")\n",
    "plt.show()\n",
    " "
   ]
  },
  {
   "cell_type": "markdown",
   "id": "45d84765-9cc8-42d7-9caf-c0103a6ce8da",
   "metadata": {},
   "source": [
    "##### 1. Why did you pick the specific chart?\n",
    "\n",
    "**Answer--**\n",
    "I selected above barplot for visualization, because its helped to identify the most problematic types of requests (city to airport/airport to city etc.)"
   ]
  },
  {
   "cell_type": "markdown",
   "id": "4dcdcf0f-e972-4f6e-a2e5-4a0a13961efa",
   "metadata": {},
   "source": [
    "##### 2. What is/are the insight(s) found from the chart?\n",
    "\n",
    "**Answer--**\n",
    "\n",
    "**Insights from the Chart:**\n",
    "\n",
    "**1.High Demand at the Airport:**\n",
    "\n",
    "There are significantly more requests originating from the Airport compared to the City.\n",
    "\n",
    "This suggests that passengers arriving at the airport are frequently booking cabs.\n",
    "\n",
    "**2.More ‘No Cars Available’ at Airport:**\n",
    "\n",
    "A large portion of airport requests result in ‘No Cars Available’ status.\n",
    "\n",
    "This indicates that cab supply at the airport is insufficient to meet the high demand.\n",
    "\n",
    "**3.More Cancellations from the City:**\n",
    "\n",
    "In contrast, the City shows a higher count of cancellations, likely due to drivers cancelling the trip.\n",
    "\n",
    "This may be due to longer trip distances, traffic, or unappealing drop locations.\n",
    "\n",
    "**4.Completed Trips More Balanced:**\n",
    "\n",
    "The number of Completed trips is more evenly distributed across both pickup points, but still slightly higher for the City.\n",
    "\n",
    "Suggests that trips originating in the city are more likely to be fulfilled if not cancelled."
   ]
  },
  {
   "cell_type": "markdown",
   "id": "7986ee62-5af6-4a0c-9eca-0511f0aab309",
   "metadata": {},
   "source": [
    "##### 3. Will the gained insights help creating a positive business impact?\n",
    "\n",
    "**Answer---** \n",
    " \n",
    "**Insights -** \n",
    "\n",
    "**1.Demand-Supply Mismatch Identification-**\n",
    "\n",
    "By analyzing the **Status** of ride requests (Completed, Cancelled, No Cars Available), especially across **pickup points (City vs. Airport)** and **hours of the day**, we uncover:\n",
    "\n",
    "* **Peak hours with high cancellations or no availability**\n",
    "* **Pickup zones needing better car allocation**\n",
    "\n",
    "**Impact:**\n",
    "Uber can **optimize driver allocation** and **incentivize driver availability** during high-demand hours to reduce customer churn.\n",
    "\n",
    "**2. Improved Driver Deployment-**\n",
    "\n",
    "The frequency plots reveal **temporal and spatial trends** in ride requests and failures:\n",
    "\n",
    "* For instance, higher cancellations from the **City during morning hours** might indicate **driver reluctance** or **traffic congestion**.\n",
    "\n",
    "**Impact:**\n",
    "Helps design **driver training, dynamic pricing, or route-based incentives** to ensure better service coverage.\n",
    "\n",
    "\n",
    "**3. Operational Efficiency**\n",
    "\n",
    "Identifying patterns such as:\n",
    "\n",
    "* More **\"No Cars Available\"** at the airport during late hours\n",
    "* High **ride cancellation rate** from certain locations\n",
    "\n",
    "**Impact:**\n",
    "Uber can refine its **forecasting models**, prepare **backup fleet strategies**, or introduce **shuttle/pooled options** to fill service gaps.\n",
    " \n",
    "\n",
    "**4. Enhanced Customer Experience**\n",
    "\n",
    "By addressing the bottlenecks exposed through data:\n",
    "\n",
    "* Fewer cancellations\n",
    "* Higher likelihood of finding a ride\n",
    "\n",
    "**Impact:**\n",
    "Boosts **customer retention, satisfaction, and app ratings**.\n",
    "\n",
    "\n",
    "**5. Data-Driven Decision Making**\n",
    "\n",
    "The entire EDA helps management back decisions with **real usage data**, like:\n",
    "\n",
    "* Whether to open new driver hubs\n",
    "* How to balance city vs. airport coverage\n",
    "* When to apply surge pricing"
   ]
  },
  {
   "cell_type": "markdown",
   "id": "720ea87c-93ab-441c-afbb-e4beca0b9242",
   "metadata": {},
   "source": [
    "#### Chart - 10"
   ]
  },
  {
   "cell_type": "code",
   "execution_count": 258,
   "id": "781861b7-cc69-4544-905a-30e49c3a0293",
   "metadata": {},
   "outputs": [],
   "source": [
    "# Gap between Demand Vs Supply\n",
    "\n",
    "Conditions = [(uber['Status'] == 'Cancelled')|(uber['Status'] == 'No Cars Available'),uber['Status'] == 'Trip Completed']\n",
    "vals =[\"Demand not met - Trip not completed\",\"Demand met - Trip completed\"]"
   ]
  },
  {
   "cell_type": "code",
   "execution_count": 259,
   "id": "e9adc589-e6f0-4632-bdb4-06f90d1a5dfb",
   "metadata": {},
   "outputs": [],
   "source": [
    "uber[\"Gap\"] = np.select(Conditions, vals)"
   ]
  },
  {
   "cell_type": "code",
   "execution_count": 262,
   "id": "9ef65e69-f8ba-432a-9aa0-a4732991f24a",
   "metadata": {},
   "outputs": [
    {
     "data": {
      "image/png": "[encoded data removed]",
      "text/plain": [
       "<Figure size 600x400 with 1 Axes>"
      ]
     },
     "metadata": {},
     "output_type": "display_data"
    }
   ],
   "source": [
    "plt.figure(figsize=(6,4))\n",
    "uber.Gap.value_counts(ascending=True).plot(kind='bar', color=['Blue','Red'])\n",
    "plt.ylabel(\"Trips Count\")\n",
    "plt.xlabel(\"Demand-Supply Status\")\n",
    "plt.title(\"Demand Vs Supply Gap\")\n",
    "plt.xticks(rotation=0, horizontalalignment=\"center\")\n",
    "plt.show()"
   ]
  },
  {
   "cell_type": "markdown",
   "id": "8331e514-d482-4c5a-b117-c4262c255306",
   "metadata": {},
   "source": [
    "##### 1. Why did you pick the specific chart?\n",
    "\n",
    "**Answer--**\n",
    "This bar chart is helped to Find out the gap between supply and demand."
   ]
  },
  {
   "cell_type": "markdown",
   "id": "e5925999-ef37-4dc5-a8ac-1bd52d93553d",
   "metadata": {},
   "source": [
    "##### 2. What is/are the insight(s) found from the chart?\n",
    "\n",
    "If trip is \"cancelled\" or \"No cars available\" is only When supply is not met to demand.\n",
    "If trip is said to be \"Trip Completed\" when Demand and supply is met.\n",
    "Demand not met is more than Demand met, means highest gap is avilable in Demand and supply.\n",
    "\n",
    "**More ‘No Cars Available’ at Airport:**\n",
    "\n",
    "A large portion of airport requests result in ‘No Cars Available’ status.\n",
    "\n",
    "This indicates that cab supply at the airport is insufficient to meet the high demand.\n",
    "\n",
    "**More Cancellations from the City:**\n",
    "\n",
    "In contrast, the City shows a higher count of cancellations, likely due to drivers cancelling the trip.\n",
    "\n",
    "This may be due to longer trip distances, traffic, or unappealing drop locations."
   ]
  },
  {
   "cell_type": "markdown",
   "id": "a848afeb-e6a9-473c-9fe9-5cd8a972c480",
   "metadata": {},
   "source": [
    "##### 3. Will the gained insights help creating a positive business impact?\n",
    "\n",
    "**Answer--**\n",
    "\n",
    "**Insights -** \n",
    "\n",
    "**1.Demand-Supply Mismatch Identification-**\n",
    "\n",
    "By analyzing the **Status** of ride requests (Completed, Cancelled, No Cars Available), especially across **pickup points (City vs. Airport)** and **hours of the day**, we uncover:\n",
    "\n",
    "* **Peak hours with high cancellations or no availability**\n",
    "* **Pickup zones needing better car allocation**\n",
    "\n",
    "**Impact:**\n",
    "Uber can **optimize driver allocation** and **incentivize driver availability** during high-demand hours to reduce customer churn.\n",
    "\n",
    "**2. Improved Driver Deployment-**\n",
    "\n",
    "The frequency plots reveal **temporal and spatial trends** in ride requests and failures:\n",
    "\n",
    "* For instance, higher cancellations from the **City during morning hours** might indicate **driver reluctance** or **traffic congestion**.\n",
    "\n",
    "**Impact:**\n",
    "Helps design **driver training, dynamic pricing, or route-based incentives** to ensure better service coverage.\n",
    "\n",
    "\n",
    "**3. Operational Efficiency**\n",
    "\n",
    "Identifying patterns such as:\n",
    "\n",
    "* More **\"No Cars Available\"** at the airport during late hours\n",
    "* High **ride cancellation rate** from certain locations\n",
    "\n",
    "**Impact:**\n",
    "Uber can refine its **forecasting models**, prepare **backup fleet strategies**, or introduce **shuttle/pooled options** to fill service gaps.\n",
    " \n",
    "\n",
    "**4. Enhanced Customer Experience**\n",
    "\n",
    "By addressing the bottlenecks exposed through data:\n",
    "\n",
    "* Fewer cancellations\n",
    "* Higher likelihood of finding a ride\n",
    "\n",
    "**Impact:**\n",
    "Boosts **customer retention, satisfaction, and app ratings**.\n",
    "\n",
    "\n",
    "**5. Data-Driven Decision Making**\n",
    "\n",
    "The entire EDA helps management back decisions with **real usage data**, like:\n",
    "\n",
    "* Whether to open new driver hubs\n",
    "* How to balance city vs. airport coverage\n",
    "* When to apply surge pricing"
   ]
  },
  {
   "cell_type": "markdown",
   "id": "a14a1f19-55cf-4b17-840f-dc378d659826",
   "metadata": {},
   "source": [
    "#### Chart - 11"
   ]
  },
  {
   "cell_type": "code",
   "execution_count": 297,
   "id": "90bd9a0f-4e48-4c11-beda-42adfefa22d8",
   "metadata": {},
   "outputs": [
    {
     "data": {
      "text/html": [
       "<div>\n",
       "<style scoped>\n",
       "    .dataframe tbody tr th:only-of-type {\n",
       "        vertical-align: middle;\n",
       "    }\n",
       "\n",
       "    .dataframe tbody tr th {\n",
       "        vertical-align: top;\n",
       "    }\n",
       "\n",
       "    .dataframe thead th {\n",
       "        text-align: right;\n",
       "    }\n",
       "</style>\n",
       "<table border=\"1\" class=\"dataframe\">\n",
       "  <thead>\n",
       "    <tr style=\"text-align: right;\">\n",
       "      <th>Gap</th>\n",
       "      <th>Demand met - Trip completed</th>\n",
       "      <th>Demand not met - Trip not completed</th>\n",
       "    </tr>\n",
       "    <tr>\n",
       "      <th>Time_slot</th>\n",
       "      <th></th>\n",
       "      <th></th>\n",
       "    </tr>\n",
       "  </thead>\n",
       "  <tbody>\n",
       "    <tr>\n",
       "      <th>Late Night</th>\n",
       "      <td>136</td>\n",
       "      <td>239</td>\n",
       "    </tr>\n",
       "    <tr>\n",
       "      <th>Early Morning</th>\n",
       "      <td>604</td>\n",
       "      <td>848</td>\n",
       "    </tr>\n",
       "    <tr>\n",
       "      <th>Morning</th>\n",
       "      <td>559</td>\n",
       "      <td>709</td>\n",
       "    </tr>\n",
       "    <tr>\n",
       "      <th>Afternoon</th>\n",
       "      <td>400</td>\n",
       "      <td>251</td>\n",
       "    </tr>\n",
       "    <tr>\n",
       "      <th>Evening</th>\n",
       "      <td>572</td>\n",
       "      <td>988</td>\n",
       "    </tr>\n",
       "    <tr>\n",
       "      <th>Night</th>\n",
       "      <td>560</td>\n",
       "      <td>879</td>\n",
       "    </tr>\n",
       "  </tbody>\n",
       "</table>\n",
       "</div>"
      ],
      "text/plain": [
       "Gap            Demand met - Trip completed  \\\n",
       "Time_slot                                    \n",
       "Late Night                             136   \n",
       "Early Morning                          604   \n",
       "Morning                                559   \n",
       "Afternoon                              400   \n",
       "Evening                                572   \n",
       "Night                                  560   \n",
       "\n",
       "Gap            Demand not met - Trip not completed  \n",
       "Time_slot                                           \n",
       "Late Night                                     239  \n",
       "Early Morning                                  848  \n",
       "Morning                                        709  \n",
       "Afternoon                                      251  \n",
       "Evening                                        988  \n",
       "Night                                          879  "
      ]
     },
     "execution_count": 297,
     "metadata": {},
     "output_type": "execute_result"
    }
   ],
   "source": [
    "gapTimeslot=pd.crosstab(index=uber['Time_slot'],columns=uber['Gap'])\n",
    "gapTimeslot"
   ]
  },
  {
   "cell_type": "code",
   "execution_count": 299,
   "id": "6ee410cf-80bf-474c-a48a-4bebd64ad448",
   "metadata": {},
   "outputs": [
    {
     "data": {
      "image/png": "[encoded data removed]",
      "text/plain": [
       "<Figure size 1000x400 with 1 Axes>"
      ]
     },
     "metadata": {},
     "output_type": "display_data"
    }
   ],
   "source": [
    "# Deamand Vs Supply Gap at different time slot\n",
    "gapTimeslot.plot(kind='bar', color=['Blue','Red'])\n",
    "plt.legend(bbox_to_anchor=(1.05, 1.0), loc='upper left')\n",
    "plt.ylabel(\"Trips Count\")\n",
    "plt.title(\"Demand Vs Supply Gap at Different Timeslots\")\n",
    "plt.xticks(rotation=0, horizontalalignment=\"center\")\n",
    "plt.gcf().set_size_inches(10, 4)\n",
    "plt.show()"
   ]
  },
  {
   "cell_type": "markdown",
   "id": "d418d6ab-18ce-4821-a144-4d4b93588362",
   "metadata": {},
   "source": [
    "##### 1. Why did you pick the specific chart?\n",
    "\n",
    "** Answer--**\n",
    "\n",
    "I used bar graph to displays time slots when the highest Demad-Supply Gap exists"
   ]
  },
  {
   "cell_type": "markdown",
   "id": "f50a7f02-4365-4d59-933d-d922b02d0453",
   "metadata": {},
   "source": [
    "##### 2. What is/are the insight(s) found from the chart?\n",
    "\n",
    "Demand-Supply Gap exists highest at the following Time Slots\n",
    "\n",
    "At Early Morning (5 am -8 am)\n",
    "At Evening (17 pm - 20 pm)"
   ]
  },
  {
   "cell_type": "markdown",
   "id": "be46872a-9445-4529-8104-4d96edd699a4",
   "metadata": {},
   "source": [
    "##### 3. Will the gained insights help creating a positive business impact?\n",
    "\n",
    "**Answer--**\n",
    "\n",
    "**1. Addressing Supply-Demand Gaps**\n",
    "Morning time slot shows high \"No Cars Available\" rates.\n",
    "\n",
    "**Impact:** Uber can increase driver incentives or rebalance supply during these hours, leading to more completed rides, higher revenue, and improved customer satisfaction.\n",
    "\n",
    "**2. Reducing Cancellations**\n",
    "Evening time slot has a spike in cancellations.\n",
    "\n",
    "**Impact:** Uber can investigate causes—e.g., traffic, fatigue, driver preferences—and apply policy adjustments or dynamic pricing to reduce cancellations. This improves reliability and retains customers.\n",
    "\n",
    "**3. Optimizing Operations**\n",
    "Afternoon time slot is relatively smooth.\n",
    "\n",
    "**Impact:** Uber can keep operations stable here and possibly reallocate drivers to other time slots, improving overall fleet efficiency.\n",
    "\n",
    "**4. Enhancing Driver Engagement**\n",
    "Low availability at night could be due to lack of motivation.\n",
    "\n",
    "**Impact:** Introducing night-time bonuses or safety measures might boost driver participation, increasing revenue from late-night demand.\n"
   ]
  },
  {
   "cell_type": "markdown",
   "id": "32d53566-73de-4ebd-800b-91311fba26ec",
   "metadata": {},
   "source": [
    "#### Chart - 12"
   ]
  },
  {
   "cell_type": "code",
   "execution_count": 306,
   "id": "032dea76-31ed-4a34-940d-4474ad5d6bd5",
   "metadata": {},
   "outputs": [
    {
     "data": {
      "text/plain": [
       "<Axes: xlabel='Pickup_point,Time_slot'>"
      ]
     },
     "execution_count": 306,
     "metadata": {},
     "output_type": "execute_result"
    },
    {
     "data": {
      "image/png": "[encoded data removed]",
      "text/plain": [
       "<Figure size 640x480 with 1 Axes>"
      ]
     },
     "metadata": {},
     "output_type": "display_data"
    }
   ],
   "source": [
    "# Plot to find the count of the status, according to both pickup point and the time slot\n",
    "pickup_df = pd.DataFrame(uber.groupby(['Pickup_point','Time_slot', 'Status'])['Request_id'].count().unstack(fill_value=0))\n",
    "pickup_df.plot.bar()\n",
    " "
   ]
  },
  {
   "cell_type": "markdown",
   "id": "abcf1e38-d567-4c79-a014-cb0ca4702854",
   "metadata": {},
   "source": [
    "##### 1. Why did you pick the specific chart?\n",
    "\n",
    "**Answer--**\n",
    "A bar chart is the most suitable to show the count of status according to both pickup points and Times slot."
   ]
  },
  {
   "cell_type": "markdown",
   "id": "c1bcbda2-1274-494d-920e-f482e3684a68",
   "metadata": {},
   "source": [
    "##### 2. What is/are the insight(s) found from the chart?\n",
    "\n",
    "**Answer--**\n",
    "\n",
    "Most No Cars Available are in the Evening from Airport to City.\n",
    "Most Cancelled trips are in the Morning from City to Airport."
   ]
  },
  {
   "cell_type": "markdown",
   "id": "e0c642bc-b33a-4230-846c-554051959f4d",
   "metadata": {},
   "source": [
    "##### 3. Will the gained insights help creating a positive business impact\n",
    "\n",
    "**Answer--**\n",
    "\n",
    " How These Insights Can Drive Positive Business Impact\n",
    "\n",
    "**1.Better Resource Planning**\n",
    "\n",
    "Allocate more drivers on high-demand days (e.g., weekends or holidays).\n",
    "\n",
    "Prevent \"No Cars Available\" issues by forecasting supply needs.\n",
    "\n",
    "**2.Improve Customer Experience**\n",
    "\n",
    "Reducing cancellation rates and supply gaps directly enhances reliability.\n",
    "\n",
    "Satisfied customers are more likely to rebook and refer others.\n",
    "\n",
    "**3.Boost Revenue**\n",
    "\n",
    "Meeting demand consistently means fewer lost trips, leading to higher revenue.\n",
    "\n",
    "**4.Operational Improvements**\n",
    "\n",
    "Identify internal or external factors leading to cancellations and address them (e.g., incentives for drivers, app/UX fixes, etc.).\n",
    "\n",
    "**5.Strategic Planning**\n",
    "\n",
    "Use patterns over time to align with marketing, pricing, and staffing strategies."
   ]
  },
  {
   "cell_type": "markdown",
   "id": "13c24bae-7048-459c-8855-7a8d38e375a5",
   "metadata": {},
   "source": [
    "### Multivariate analysis"
   ]
  },
  {
   "cell_type": "markdown",
   "id": "95baba86-f439-4c0b-89af-a3ccbea808db",
   "metadata": {},
   "source": [
    "#### Chart - 13"
   ]
  },
  {
   "cell_type": "code",
   "execution_count": 307,
   "id": "a6561ee5-9d7b-430c-9ee0-682b0e923a0f",
   "metadata": {},
   "outputs": [
    {
     "data": {
      "image/png": "[encoded data removed]",
      "text/plain": [
       "<Figure size 1000x400 with 1 Axes>"
      ]
     },
     "metadata": {},
     "output_type": "display_data"
    }
   ],
   "source": [
    "# Let's create a bar chart for all trips from Airport or City based on Time period such as Early Morning, Morning, Afternoon, Early Evening, Evening, Night, Late Night\n",
    "\n",
    "res = pd.pivot_table(data=uber,index=[\"Time_slot\"],columns=\"Pickup_point\",values=\"Request_id\",aggfunc=\"count\").plot(kind='bar', stacked=True, figsize=[10,4],colormap=\"Paired\",fontsize=12)\n",
    "plt.setp(res.xaxis.get_majorticklabels(), rotation=45,fontsize=9)\n",
    "plt.title(\"Number of requests during each time period of the day from Airport and City\",fontsize=15,loc=\"left\")\n",
    "for p in res.patches:\n",
    "    width, height = p.get_width(), p.get_height()\n",
    "    x, y = p.get_xy()\n",
    "    res.text(x+width/2,\n",
    "             (y),\n",
    "             '{:.0f}'.format(height),\n",
    "             horizontalalignment='center',\n",
    "             verticalalignment='bottom',fontsize=12)\n",
    "plt.savefig(\"04 - Number of requests during each time period of the day from Airport and City.jpeg\",dpi=400)\n",
    "plt.show()"
   ]
  },
  {
   "cell_type": "markdown",
   "id": "2565f862-41e9-41ee-ab86-87d635e36665",
   "metadata": {},
   "source": [
    "##### 1. Why did you pick the specific chart?\n",
    "\n",
    "I used this pivot table chart- to plot a bar graph for number of requests during each time period of the day."
   ]
  },
  {
   "cell_type": "markdown",
   "id": "dfe30290-c4a9-47fc-9b07-676d41ca79e0",
   "metadata": {},
   "source": [
    "##### 2. What is/are the insight(s) found from the chart?\n",
    "\n",
    "There are lot of requests in the city in the early morning and morning time also.\n",
    "There are highest requests in the airport in evening and night time.\n",
    "Number of requests is decreasing in the late night in city and airport."
   ]
  },
  {
   "cell_type": "markdown",
   "id": "e9ec8d10-4035-43cd-beaf-d8411b14deba",
   "metadata": {},
   "source": [
    "##### 3. Will the gained insights help creating a positive business impact?\n",
    "\n",
    "\n",
    "**Answer---** \n",
    " \n",
    "**Insights -** \n",
    "\n",
    "**1.Demand-Supply Mismatch Identification-**\n",
    "\n",
    "By analyzing the **Status** of ride requests (Completed, Cancelled, No Cars Available), especially across **pickup points (City vs. Airport)** and **hours of the day**, we uncover:\n",
    "\n",
    "* **Peak hours with high cancellations or no availability**\n",
    "* **Pickup zones needing better car allocation**\n",
    "\n",
    "**Impact:**\n",
    "Uber can **optimize driver allocation** and **incentivize driver availability** during high-demand hours to reduce customer churn.\n",
    "\n",
    "**2. Improved Driver Deployment-**\n",
    "\n",
    "The frequency plots reveal **temporal and spatial trends** in ride requests and failures:\n",
    "\n",
    "* For instance, higher cancellations from the **City during morning hours** might indicate **driver reluctance** or **traffic congestion**.\n",
    "\n",
    "**Impact:**\n",
    "Helps design **driver training, dynamic pricing, or route-based incentives** to ensure better service coverage.\n",
    "\n",
    "\n",
    "**3. Operational Efficiency**\n",
    "\n",
    "Identifying patterns such as:\n",
    "\n",
    "* More **\"No Cars Available\"** at the airport during late hours\n",
    "* High **ride cancellation rate** from certain locations\n",
    "\n",
    "**Impact:**\n",
    "Uber can refine its **forecasting models**, prepare **backup fleet strategies**, or introduce **shuttle/pooled options** to fill service gaps.\n",
    " \n",
    "\n",
    "**4. Enhanced Customer Experience**\n",
    "\n",
    "By addressing the bottlenecks exposed through data:\n",
    "\n",
    "* Fewer cancellations\n",
    "* Higher likelihood of finding a ride\n",
    "\n",
    "**Impact:**\n",
    "Boosts **customer retention, satisfaction, and app ratings**.\n",
    "\n",
    "\n",
    "**5. Data-Driven Decision Making**\n",
    "\n",
    "The entire EDA helps management back decisions with **real usage data**, like:\n",
    "\n",
    "* Whether to open new driver hubs\n",
    "* How to balance city vs. airport coverage\n",
    "* When to apply surge pricing"
   ]
  },
  {
   "cell_type": "markdown",
   "id": "beb5ba74-4027-42aa-af4f-9d0d6237fdeb",
   "metadata": {},
   "source": [
    "#### Chart - 14"
   ]
  },
  {
   "cell_type": "code",
   "execution_count": 308,
   "id": "27eb86e5-98a8-471f-8630-4e52d7e2f37c",
   "metadata": {},
   "outputs": [
    {
     "data": {
      "text/html": [
       "<div>\n",
       "<style scoped>\n",
       "    .dataframe tbody tr th:only-of-type {\n",
       "        vertical-align: middle;\n",
       "    }\n",
       "\n",
       "    .dataframe tbody tr th {\n",
       "        vertical-align: top;\n",
       "    }\n",
       "\n",
       "    .dataframe thead th {\n",
       "        text-align: right;\n",
       "    }\n",
       "</style>\n",
       "<table border=\"1\" class=\"dataframe\">\n",
       "  <thead>\n",
       "    <tr style=\"text-align: right;\">\n",
       "      <th></th>\n",
       "      <th>Gap</th>\n",
       "      <th>Demand met - Trip completed</th>\n",
       "      <th>Demand not met - Trip not completed</th>\n",
       "    </tr>\n",
       "    <tr>\n",
       "      <th>Time_slot</th>\n",
       "      <th>Pickup_point</th>\n",
       "      <th></th>\n",
       "      <th></th>\n",
       "    </tr>\n",
       "  </thead>\n",
       "  <tbody>\n",
       "    <tr>\n",
       "      <th rowspan=\"2\" valign=\"top\">Late Night</th>\n",
       "      <th>Airport</th>\n",
       "      <td>67</td>\n",
       "      <td>114</td>\n",
       "    </tr>\n",
       "    <tr>\n",
       "      <th>City</th>\n",
       "      <td>69</td>\n",
       "      <td>125</td>\n",
       "    </tr>\n",
       "    <tr>\n",
       "      <th rowspan=\"2\" valign=\"top\">Early Morning</th>\n",
       "      <th>Airport</th>\n",
       "      <td>277</td>\n",
       "      <td>59</td>\n",
       "    </tr>\n",
       "    <tr>\n",
       "      <th>City</th>\n",
       "      <td>327</td>\n",
       "      <td>789</td>\n",
       "    </tr>\n",
       "    <tr>\n",
       "      <th rowspan=\"2\" valign=\"top\">Morning</th>\n",
       "      <th>Airport</th>\n",
       "      <td>243</td>\n",
       "      <td>58</td>\n",
       "    </tr>\n",
       "    <tr>\n",
       "      <th>City</th>\n",
       "      <td>316</td>\n",
       "      <td>651</td>\n",
       "    </tr>\n",
       "    <tr>\n",
       "      <th rowspan=\"2\" valign=\"top\">Afternoon</th>\n",
       "      <th>Airport</th>\n",
       "      <td>187</td>\n",
       "      <td>91</td>\n",
       "    </tr>\n",
       "    <tr>\n",
       "      <th>City</th>\n",
       "      <td>213</td>\n",
       "      <td>160</td>\n",
       "    </tr>\n",
       "    <tr>\n",
       "      <th rowspan=\"2\" valign=\"top\">Evening</th>\n",
       "      <th>Airport</th>\n",
       "      <td>276</td>\n",
       "      <td>864</td>\n",
       "    </tr>\n",
       "    <tr>\n",
       "      <th>City</th>\n",
       "      <td>296</td>\n",
       "      <td>124</td>\n",
       "    </tr>\n",
       "    <tr>\n",
       "      <th rowspan=\"2\" valign=\"top\">Night</th>\n",
       "      <th>Airport</th>\n",
       "      <td>277</td>\n",
       "      <td>725</td>\n",
       "    </tr>\n",
       "    <tr>\n",
       "      <th>City</th>\n",
       "      <td>283</td>\n",
       "      <td>154</td>\n",
       "    </tr>\n",
       "  </tbody>\n",
       "</table>\n",
       "</div>"
      ],
      "text/plain": [
       "Gap                         Demand met - Trip completed  \\\n",
       "Time_slot     Pickup_point                                \n",
       "Late Night    Airport                                67   \n",
       "              City                                   69   \n",
       "Early Morning Airport                               277   \n",
       "              City                                  327   \n",
       "Morning       Airport                               243   \n",
       "              City                                  316   \n",
       "Afternoon     Airport                               187   \n",
       "              City                                  213   \n",
       "Evening       Airport                               276   \n",
       "              City                                  296   \n",
       "Night         Airport                               277   \n",
       "              City                                  283   \n",
       "\n",
       "Gap                         Demand not met - Trip not completed  \n",
       "Time_slot     Pickup_point                                       \n",
       "Late Night    Airport                                       114  \n",
       "              City                                          125  \n",
       "Early Morning Airport                                        59  \n",
       "              City                                          789  \n",
       "Morning       Airport                                        58  \n",
       "              City                                          651  \n",
       "Afternoon     Airport                                        91  \n",
       "              City                                          160  \n",
       "Evening       Airport                                       864  \n",
       "              City                                          124  \n",
       "Night         Airport                                       725  \n",
       "              City                                          154  "
      ]
     },
     "execution_count": 308,
     "metadata": {},
     "output_type": "execute_result"
    }
   ],
   "source": [
    "# Demand Vs Supply Gap at Different Timeslots & Pickup Point\n",
    "gapTimeslotPickupPoint = pd.DataFrame(uber.groupby(['Time_slot','Pickup_point','Gap'])['Request_id'].count().unstack(fill_value=0))\n",
    "gapTimeslotPickupPoint"
   ]
  },
  {
   "cell_type": "code",
   "execution_count": 304,
   "id": "59261700-15bc-41fb-b991-de09809474b6",
   "metadata": {},
   "outputs": [
    {
     "data": {
      "image/png": "[encoded data removed]",
      "text/plain": [
       "<Figure size 1000x400 with 1 Axes>"
      ]
     },
     "metadata": {},
     "output_type": "display_data"
    }
   ],
   "source": [
    "gapTimeslotPickupPoint.plot(kind='bar', color=['Blue','Red'])\n",
    "plt.ylabel(\"Trips Count\")\n",
    "plt.title(\"Demand Vs Supply Gap at Different Timeslots & Pickup Point\")\n",
    "plt.xticks(rotation=90, horizontalalignment=\"center\")\n",
    "plt.gcf().set_size_inches(10, 4)\n",
    "plt.show()"
   ]
  },
  {
   "cell_type": "markdown",
   "id": "1e080781-a631-44b9-beb4-e2d56b0a30cc",
   "metadata": {},
   "source": [
    "##### 1. Why did you pick the specific chart?\n",
    "\n",
    "**Answer--**\n",
    "\n",
    "This bar graph is hepful to displays types of requests for which the gap is the most severe in the time slots"
   ]
  },
  {
   "cell_type": "markdown",
   "id": "d4c35e54-2e0d-4b6a-947c-9d1afdfc9e68",
   "metadata": {},
   "source": [
    "##### 2. What is/are the insight(s) found from the chart?\n",
    "\n",
    "Demand-Supply Gap exists highest at the following Time Slots & types of requests (city-airport or airport-city)\n",
    "\n",
    "At Early Morning (5 am -8 am) when Pickup_point = 'City'\n",
    "\n",
    "At Evening (17 pm - 20 pm) when Pickup_point = 'Airport'"
   ]
  },
  {
   "cell_type": "markdown",
   "id": "bb386253-f7d0-42c6-8221-16be92f15e02",
   "metadata": {},
   "source": [
    "##### 3. Will the gained insights help creating a positive business impact?\n",
    "\n",
    "\n",
    "**1. Addressing Supply-Demand Gaps**\n",
    "Morning time slot shows high \"No Cars Available\" rates.\n",
    "\n",
    "**Impact:** Uber can increase driver incentives or rebalance supply during these hours, leading to more completed rides, higher revenue, and improved customer satisfaction.\n",
    "\n",
    "**2. Reducing Cancellations**\n",
    "Evening time slot has a spike in cancellations.\n",
    "\n",
    "**Impact:** Uber can investigate causes—e.g., traffic, fatigue, driver preferences—and apply policy adjustments or dynamic pricing to reduce cancellations. This improves reliability and retains customers.\n",
    "\n",
    "**3. Optimizing Operations**\n",
    "Afternoon time slot is relatively smooth.\n",
    "\n",
    "**Impact:** Uber can keep operations stable here and possibly reallocate drivers to other time slots, improving overall fleet efficiency.\n",
    "\n",
    "**4. Enhancing Driver Engagement**\n",
    "Low availability at night could be due to lack of motivation.\n",
    "\n",
    "**Impact:** Introducing night-time bonuses or safety measures might boost driver participation, increasing revenue from late-night demand."
   ]
  },
  {
   "cell_type": "markdown",
   "id": "202f3eab-8eea-4e73-9814-271627f8d148",
   "metadata": {},
   "source": [
    "## **5. Solution to Business Objective**"
   ]
  },
  {
   "cell_type": "markdown",
   "id": "fbc14e22-8a98-4684-8200-52f74b418db7",
   "metadata": {},
   "source": [
    "* Based on the data analysis performed, following recommendation can be used by Uber to bridge the gap between supply and demand:-\n",
    "* For bridging the demand supply gap from airport to city, making a permanent stand in the airport itself where the cabs will be available at all times and the incomplete requests can come down significantly.\n",
    "* Uber can provide some incentives to the driver who complete the trip from city to airport in the morning part. This might result the driver to not cancel the request from city to airport trips.\n",
    "* Last but sure solution to bring down the gap is to increase the numbers of cab in its fleet."
   ]
  },
  {
   "cell_type": "markdown",
   "id": "ee92b4c9-7f7f-4f64-a7ab-7cab37ee2bda",
   "metadata": {},
   "source": [
    "#### What do you suggest the client to achieve Business Objective "
   ]
  },
  {
   "cell_type": "markdown",
   "id": "f1a911a4-e179-4d8f-a07c-54a68db56a1d",
   "metadata": {},
   "source": [
    "# **Conclusion**"
   ]
  },
  {
   "cell_type": "markdown",
   "id": "56bb4695-4cc7-4bec-9c15-888a8cca7e3c",
   "metadata": {},
   "source": [
    "* Exploratory Data Analysis (EDA) of the Uber request data provided clear supply-demand imbalances, which were mainly due to time-of-day and pickup location effects.\n",
    "* Demand peaks sharply in the early morning and evening, particularly for airport pickups, while demand hours are fairly short, leaving a gap rate over 70% in peak timeslots.\n",
    "*  City pickups experience relatively better fulfillment, especially in the evening.\n",
    "*  Visualizations also highlighted that trip duration remain consistent, and consequently, inefficiencies arise not due to ride size but missed timing of driver availability.\n",
    "*  The multivariate analysis further confirmed that gap rates are highest during high-demand time slots and that there are no strong correlations between numeric variables, affirming the significance of categorical and time based patterns.\n",
    "*  Therefore, these findings are critical to guiding targeted interventions such as driver incentives, real-time pricing, or fleet repositioning in order to boost compliance and customer satisfaction, ultimately generating positive business outcomes by responding to supply shortages at the time and location it is most valuable."
   ]
  },
  {
   "cell_type": "markdown",
   "id": "4a0d4906-050a-4599-8310-a54debc4fec1",
   "metadata": {},
   "source": [
    "### ***Hurrah! You have successfully completed your EDA Capstone Project !!!***"
   ]
  }
 ],
 "metadata": {
  "kernelspec": {
   "display_name": "Python 3 (ipykernel)",
   "language": "python",
   "name": "python3"
  },
  "language_info": {
   "codemirror_mode": {
    "name": "ipython",
    "version": 3
   },
   "file_extension": ".py",
   "mimetype": "text/x-python",
   "name": "python",
   "nbconvert_exporter": "python",
   "pygments_lexer": "ipython3",
   "version": "3.12.7"
  }
 },
 "nbformat": 4,
 "nbformat_minor": 5
}
